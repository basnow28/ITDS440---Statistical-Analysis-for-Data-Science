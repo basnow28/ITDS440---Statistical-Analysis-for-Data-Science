{
  "nbformat": 4,
  "nbformat_minor": 0,
  "metadata": {
    "colab": {
      "provenance": [],
      "authorship_tag": "ABX9TyPrICneXSvlczIGu9fFScZD",
      "include_colab_link": true
    },
    "kernelspec": {
      "name": "python3",
      "display_name": "Python 3"
    },
    "language_info": {
      "name": "python"
    }
  },
  "cells": [
    {
      "cell_type": "markdown",
      "metadata": {
        "id": "view-in-github",
        "colab_type": "text"
      },
      "source": [
        "<a href=\"https://colab.research.google.com/github/basnow28/ITDS440---Statistical-Analysis-for-Data-Science/blob/main/Data_Cleaning_and_Preparation.ipynb\" target=\"_parent\"><img src=\"https://colab.research.google.com/assets/colab-badge.svg\" alt=\"Open In Colab\"/></a>"
      ]
    },
    {
      "cell_type": "code",
      "execution_count": 1,
      "metadata": {
        "colab": {
          "base_uri": "https://localhost:8080/"
        },
        "id": "nMCBA8N_P-xN",
        "outputId": "e67db290-e23d-4091-bfdb-e966c82debc7"
      },
      "outputs": [
        {
          "output_type": "stream",
          "name": "stdout",
          "text": [
            "Mounted at /content/drive\n"
          ]
        }
      ],
      "source": [
        "from google.colab import drive\n",
        "drive.mount('/content/drive')"
      ]
    },
    {
      "cell_type": "code",
      "source": [
        "import pandas as pd\n",
        "import numpy as np\n",
        "#leemos el fichero IMDB\n",
        "matches=pd.read_csv(\"/content/drive/MyDrive/EIU Statistical Analysis For Data Science/datasets/matches_1991_2023.csv\", sep=\",\")"
      ],
      "metadata": {
        "id": "eylOyZX8Ysvd"
      },
      "execution_count": 10,
      "outputs": []
    },
    {
      "cell_type": "code",
      "source": [
        "pd.set_option('display.max_columns', None)\n",
        "pd.set_option('display.width', 1000)"
      ],
      "metadata": {
        "id": "Dkj8gg6qn01H"
      },
      "execution_count": 3,
      "outputs": []
    },
    {
      "cell_type": "code",
      "source": [
        "matches.head()"
      ],
      "metadata": {
        "colab": {
          "base_uri": "https://localhost:8080/",
          "height": 539
        },
        "id": "MlAp5ZdcZEVW",
        "outputId": "c77c10e5-6443-47c8-bb0d-d384e7761132"
      },
      "execution_count": null,
      "outputs": [
        {
          "output_type": "execute_result",
          "data": {
            "text/plain": [
              "   home_team  away_team  home_score  home_xg  home_penalty  away_score  away_xg  away_penalty       home_manager      home_captain       away_manager      away_captain  Attendance                      Venue                                          Officials              Round        Date        Score              Referee                                              Notes                    Host  Year                                  home_goal                                          away_goal                                     home_goal_long                                     away_goal_long home_own_goal away_own_goal          home_penalty_goal away_penalty_goal                             home_penalty_miss_long away_penalty_miss_long                    home_penalty_shootout_goal_long                    away_penalty_shootout_goal_long                    home_penalty_shootout_miss_long                    away_penalty_shootout_miss_long home_red_card away_red_card  \\\n",
              "0      Spain    England           1      2.1           NaN           0      0.5           NaN        Jorge Vilda      Olga Carmona     Sarina Wiegman     Millie Bright       75784      Accor Stadium, Sydney  Tori Penso (Referee) · Brooke Mayo (AR1) · Kat...              Final  2023-08-20          1–0           Tori Penso                                                NaN  Australia, New Zealand  2023                         Olga Carmona · 29’                                                NaN  ['29’|1:0|Olga Carmona|Assist:|Mariona Caldent...                                                NaN           NaN           NaN                        NaN               NaN  ['69’|1:0|Jennifer Hermoso|Penalty saved by Ma...                    NaN                                                NaN                                                NaN                                                NaN                                                NaN           NaN           NaN   \n",
              "1     Sweden  Australia           2      1.8           NaN           0      0.8           NaN  Peter Gerhardsson  Kosovare Asllani    Tony Gustavsson          Sam Kerr       49461  Suncorp Stadium, Brisbane                                                NaN  Third-place match  2023-08-19          2–0                  NaN                                                NaN  Australia, New Zealand  2023                     Kosovare Asllani · 62’                                                NaN  ['62’|2:0|Kosovare Asllani|Assist:|Stina Black...                                                NaN           NaN           NaN  Fridolina Rolfö (P) · 30’               NaN                                                NaN                    NaN                                                NaN                                                NaN                                                NaN                                                NaN           NaN           NaN   \n",
              "2  Australia    England           1      1.4           NaN           3      1.3           NaN    Tony Gustavsson          Sam Kerr     Sarina Wiegman     Millie Bright       75784      Accor Stadium, Sydney  Tori Penso (Referee) · Brooke Mayo (AR1) · Mij...        Semi-finals  2023-08-16          1–3           Tori Penso                                                NaN  Australia, New Zealand  2023                             Sam Kerr · 63’  Ella Toone · 36’|Lauren Hemp · 71’|Alessia Rus...         ['63’|1:1|Sam Kerr|Assist:|Katrina Gorry']  ['36’|0:1|Ella Toone', '71’|1:2|Lauren Hemp|As...           NaN           NaN                        NaN               NaN                                                NaN                    NaN                                                NaN                                                NaN                                                NaN                                                NaN           NaN           NaN   \n",
              "3      Spain     Sweden           2      1.6           NaN           1      0.9           NaN        Jorge Vilda      Olga Carmona  Peter Gerhardsson  Kosovare Asllani       43217        Eden Park, Auckland  Edina Alves Batista (Referee) · Neuza Back (AR...        Semi-finals  2023-08-15          2–1  Edina Alves Batista                                                NaN  Australia, New Zealand  2023  Salma Paralluelo · 81’|Olga Carmona · 89’                            Rebecka Blomqvist · 88’  ['81’|1:0|Salma Paralluelo', '89’|2:1|Olga Car...  ['88’|1:1|Rebecka Blomqvist|Assist:|Lina Hurtig']           NaN           NaN                        NaN               NaN                                                NaN                    NaN                                                NaN                                                NaN                                                NaN                                                NaN           NaN           NaN   \n",
              "4  Australia     France           0      1.6           7.0           0      2.0           6.0    Tony Gustavsson      Steph Catley       Hervé Renard     Wendie Renard       49461  Suncorp Stadium, Brisbane  María Carvajal (Referee) · Leslie Vásquez (AR1...     Quarter-finals  2023-08-12  (7) 0–0 (6)       María Carvajal  Australia won on penalty kicks following extra...  Australia, New Zealand  2023                                        NaN                                                NaN                                                NaN                                                NaN           NaN           NaN                        NaN               NaN                                                NaN                    NaN  ['2|1:0|Caitlin Foord', '6|2:2|Sam Kerr', '8|3...  ['3|1:1|Kadidiatou Diani', '5|1:2|Wendie Renar...  ['4|1:1|Steph Catley', '10|3:3|Mackenzie Arnol...  ['1|0:0|Selma Bacha', '9|3:3|Ève Périsset', '1...           NaN           NaN   \n",
              "\n",
              "  home_yellow_red_card away_yellow_red_card                              home_yellow_card_long                              away_yellow_card_long                            home_substitute_in_long                            away_substitute_in_long  \n",
              "0                  NaN                  NaN                       ['78’|1:0|Salma Paralluelo']                            ['55’|1:0|Lauren Hemp']  ['60’|1:0|Oihane Hernández|for Alba Redondo', ...  ['46’|1:0|Lauren James|for Alessia Russo', '46...  \n",
              "1                  NaN                  NaN  ['88’|2:0|Elin Rubensson', '90+5’|2:0|Lina Hur...                        ['45+1’|1:0|Katrina Gorry']  ['67’|2:0|Rebecka Blomqvist|for Stina Blackste...  ['60’|1:0|Cortnee Vine|for Hayley Raso', '60’|...  \n",
              "2                  NaN                  NaN                                                NaN  ['10’|0:0|Alex Greenwood', '90+5’|1:3|Chloe Ke...  ['72’|1:2|Cortnee Vine|for Hayley Raso', '81’|...  ['87’|1:3|Chloe Kelly|for Alessia Russo', '90’...  \n",
              "3                  NaN                  NaN                                                NaN                                                NaN  ['57’|0:0|Salma Paralluelo|for Alexia Putellas...  ['77’|0:0|Rebecka Blomqvist|for Stina Blackste...  \n",
              "4                  NaN                  NaN                          ['92’|0:0|Katrina Gorry']                                                NaN  ['55’|0:0|Sam Kerr|for Emily van Egmond', '104...  ['64’|0:0|Vicki Bècho|for Sandie Toletti', '12...  "
            ],
            "text/html": [
              "\n",
              "  <div id=\"df-23c978ba-7cfc-450a-8156-ceca79557f1e\" class=\"colab-df-container\">\n",
              "    <div>\n",
              "<style scoped>\n",
              "    .dataframe tbody tr th:only-of-type {\n",
              "        vertical-align: middle;\n",
              "    }\n",
              "\n",
              "    .dataframe tbody tr th {\n",
              "        vertical-align: top;\n",
              "    }\n",
              "\n",
              "    .dataframe thead th {\n",
              "        text-align: right;\n",
              "    }\n",
              "</style>\n",
              "<table border=\"1\" class=\"dataframe\">\n",
              "  <thead>\n",
              "    <tr style=\"text-align: right;\">\n",
              "      <th></th>\n",
              "      <th>home_team</th>\n",
              "      <th>away_team</th>\n",
              "      <th>home_score</th>\n",
              "      <th>home_xg</th>\n",
              "      <th>home_penalty</th>\n",
              "      <th>away_score</th>\n",
              "      <th>away_xg</th>\n",
              "      <th>away_penalty</th>\n",
              "      <th>home_manager</th>\n",
              "      <th>home_captain</th>\n",
              "      <th>away_manager</th>\n",
              "      <th>away_captain</th>\n",
              "      <th>Attendance</th>\n",
              "      <th>Venue</th>\n",
              "      <th>Officials</th>\n",
              "      <th>Round</th>\n",
              "      <th>Date</th>\n",
              "      <th>Score</th>\n",
              "      <th>Referee</th>\n",
              "      <th>Notes</th>\n",
              "      <th>Host</th>\n",
              "      <th>Year</th>\n",
              "      <th>home_goal</th>\n",
              "      <th>away_goal</th>\n",
              "      <th>home_goal_long</th>\n",
              "      <th>away_goal_long</th>\n",
              "      <th>home_own_goal</th>\n",
              "      <th>away_own_goal</th>\n",
              "      <th>home_penalty_goal</th>\n",
              "      <th>away_penalty_goal</th>\n",
              "      <th>home_penalty_miss_long</th>\n",
              "      <th>away_penalty_miss_long</th>\n",
              "      <th>home_penalty_shootout_goal_long</th>\n",
              "      <th>away_penalty_shootout_goal_long</th>\n",
              "      <th>home_penalty_shootout_miss_long</th>\n",
              "      <th>away_penalty_shootout_miss_long</th>\n",
              "      <th>home_red_card</th>\n",
              "      <th>away_red_card</th>\n",
              "      <th>home_yellow_red_card</th>\n",
              "      <th>away_yellow_red_card</th>\n",
              "      <th>home_yellow_card_long</th>\n",
              "      <th>away_yellow_card_long</th>\n",
              "      <th>home_substitute_in_long</th>\n",
              "      <th>away_substitute_in_long</th>\n",
              "    </tr>\n",
              "  </thead>\n",
              "  <tbody>\n",
              "    <tr>\n",
              "      <th>0</th>\n",
              "      <td>Spain</td>\n",
              "      <td>England</td>\n",
              "      <td>1</td>\n",
              "      <td>2.1</td>\n",
              "      <td>NaN</td>\n",
              "      <td>0</td>\n",
              "      <td>0.5</td>\n",
              "      <td>NaN</td>\n",
              "      <td>Jorge Vilda</td>\n",
              "      <td>Olga Carmona</td>\n",
              "      <td>Sarina Wiegman</td>\n",
              "      <td>Millie Bright</td>\n",
              "      <td>75784</td>\n",
              "      <td>Accor Stadium, Sydney</td>\n",
              "      <td>Tori Penso (Referee) · Brooke Mayo (AR1) · Kat...</td>\n",
              "      <td>Final</td>\n",
              "      <td>2023-08-20</td>\n",
              "      <td>1–0</td>\n",
              "      <td>Tori Penso</td>\n",
              "      <td>NaN</td>\n",
              "      <td>Australia, New Zealand</td>\n",
              "      <td>2023</td>\n",
              "      <td>Olga Carmona · 29’</td>\n",
              "      <td>NaN</td>\n",
              "      <td>['29’|1:0|Olga Carmona|Assist:|Mariona Caldent...</td>\n",
              "      <td>NaN</td>\n",
              "      <td>NaN</td>\n",
              "      <td>NaN</td>\n",
              "      <td>NaN</td>\n",
              "      <td>NaN</td>\n",
              "      <td>['69’|1:0|Jennifer Hermoso|Penalty saved by Ma...</td>\n",
              "      <td>NaN</td>\n",
              "      <td>NaN</td>\n",
              "      <td>NaN</td>\n",
              "      <td>NaN</td>\n",
              "      <td>NaN</td>\n",
              "      <td>NaN</td>\n",
              "      <td>NaN</td>\n",
              "      <td>NaN</td>\n",
              "      <td>NaN</td>\n",
              "      <td>['78’|1:0|Salma Paralluelo']</td>\n",
              "      <td>['55’|1:0|Lauren Hemp']</td>\n",
              "      <td>['60’|1:0|Oihane Hernández|for Alba Redondo', ...</td>\n",
              "      <td>['46’|1:0|Lauren James|for Alessia Russo', '46...</td>\n",
              "    </tr>\n",
              "    <tr>\n",
              "      <th>1</th>\n",
              "      <td>Sweden</td>\n",
              "      <td>Australia</td>\n",
              "      <td>2</td>\n",
              "      <td>1.8</td>\n",
              "      <td>NaN</td>\n",
              "      <td>0</td>\n",
              "      <td>0.8</td>\n",
              "      <td>NaN</td>\n",
              "      <td>Peter Gerhardsson</td>\n",
              "      <td>Kosovare Asllani</td>\n",
              "      <td>Tony Gustavsson</td>\n",
              "      <td>Sam Kerr</td>\n",
              "      <td>49461</td>\n",
              "      <td>Suncorp Stadium, Brisbane</td>\n",
              "      <td>NaN</td>\n",
              "      <td>Third-place match</td>\n",
              "      <td>2023-08-19</td>\n",
              "      <td>2–0</td>\n",
              "      <td>NaN</td>\n",
              "      <td>NaN</td>\n",
              "      <td>Australia, New Zealand</td>\n",
              "      <td>2023</td>\n",
              "      <td>Kosovare Asllani · 62’</td>\n",
              "      <td>NaN</td>\n",
              "      <td>['62’|2:0|Kosovare Asllani|Assist:|Stina Black...</td>\n",
              "      <td>NaN</td>\n",
              "      <td>NaN</td>\n",
              "      <td>NaN</td>\n",
              "      <td>Fridolina Rolfö (P) · 30’</td>\n",
              "      <td>NaN</td>\n",
              "      <td>NaN</td>\n",
              "      <td>NaN</td>\n",
              "      <td>NaN</td>\n",
              "      <td>NaN</td>\n",
              "      <td>NaN</td>\n",
              "      <td>NaN</td>\n",
              "      <td>NaN</td>\n",
              "      <td>NaN</td>\n",
              "      <td>NaN</td>\n",
              "      <td>NaN</td>\n",
              "      <td>['88’|2:0|Elin Rubensson', '90+5’|2:0|Lina Hur...</td>\n",
              "      <td>['45+1’|1:0|Katrina Gorry']</td>\n",
              "      <td>['67’|2:0|Rebecka Blomqvist|for Stina Blackste...</td>\n",
              "      <td>['60’|1:0|Cortnee Vine|for Hayley Raso', '60’|...</td>\n",
              "    </tr>\n",
              "    <tr>\n",
              "      <th>2</th>\n",
              "      <td>Australia</td>\n",
              "      <td>England</td>\n",
              "      <td>1</td>\n",
              "      <td>1.4</td>\n",
              "      <td>NaN</td>\n",
              "      <td>3</td>\n",
              "      <td>1.3</td>\n",
              "      <td>NaN</td>\n",
              "      <td>Tony Gustavsson</td>\n",
              "      <td>Sam Kerr</td>\n",
              "      <td>Sarina Wiegman</td>\n",
              "      <td>Millie Bright</td>\n",
              "      <td>75784</td>\n",
              "      <td>Accor Stadium, Sydney</td>\n",
              "      <td>Tori Penso (Referee) · Brooke Mayo (AR1) · Mij...</td>\n",
              "      <td>Semi-finals</td>\n",
              "      <td>2023-08-16</td>\n",
              "      <td>1–3</td>\n",
              "      <td>Tori Penso</td>\n",
              "      <td>NaN</td>\n",
              "      <td>Australia, New Zealand</td>\n",
              "      <td>2023</td>\n",
              "      <td>Sam Kerr · 63’</td>\n",
              "      <td>Ella Toone · 36’|Lauren Hemp · 71’|Alessia Rus...</td>\n",
              "      <td>['63’|1:1|Sam Kerr|Assist:|Katrina Gorry']</td>\n",
              "      <td>['36’|0:1|Ella Toone', '71’|1:2|Lauren Hemp|As...</td>\n",
              "      <td>NaN</td>\n",
              "      <td>NaN</td>\n",
              "      <td>NaN</td>\n",
              "      <td>NaN</td>\n",
              "      <td>NaN</td>\n",
              "      <td>NaN</td>\n",
              "      <td>NaN</td>\n",
              "      <td>NaN</td>\n",
              "      <td>NaN</td>\n",
              "      <td>NaN</td>\n",
              "      <td>NaN</td>\n",
              "      <td>NaN</td>\n",
              "      <td>NaN</td>\n",
              "      <td>NaN</td>\n",
              "      <td>NaN</td>\n",
              "      <td>['10’|0:0|Alex Greenwood', '90+5’|1:3|Chloe Ke...</td>\n",
              "      <td>['72’|1:2|Cortnee Vine|for Hayley Raso', '81’|...</td>\n",
              "      <td>['87’|1:3|Chloe Kelly|for Alessia Russo', '90’...</td>\n",
              "    </tr>\n",
              "    <tr>\n",
              "      <th>3</th>\n",
              "      <td>Spain</td>\n",
              "      <td>Sweden</td>\n",
              "      <td>2</td>\n",
              "      <td>1.6</td>\n",
              "      <td>NaN</td>\n",
              "      <td>1</td>\n",
              "      <td>0.9</td>\n",
              "      <td>NaN</td>\n",
              "      <td>Jorge Vilda</td>\n",
              "      <td>Olga Carmona</td>\n",
              "      <td>Peter Gerhardsson</td>\n",
              "      <td>Kosovare Asllani</td>\n",
              "      <td>43217</td>\n",
              "      <td>Eden Park, Auckland</td>\n",
              "      <td>Edina Alves Batista (Referee) · Neuza Back (AR...</td>\n",
              "      <td>Semi-finals</td>\n",
              "      <td>2023-08-15</td>\n",
              "      <td>2–1</td>\n",
              "      <td>Edina Alves Batista</td>\n",
              "      <td>NaN</td>\n",
              "      <td>Australia, New Zealand</td>\n",
              "      <td>2023</td>\n",
              "      <td>Salma Paralluelo · 81’|Olga Carmona · 89’</td>\n",
              "      <td>Rebecka Blomqvist · 88’</td>\n",
              "      <td>['81’|1:0|Salma Paralluelo', '89’|2:1|Olga Car...</td>\n",
              "      <td>['88’|1:1|Rebecka Blomqvist|Assist:|Lina Hurtig']</td>\n",
              "      <td>NaN</td>\n",
              "      <td>NaN</td>\n",
              "      <td>NaN</td>\n",
              "      <td>NaN</td>\n",
              "      <td>NaN</td>\n",
              "      <td>NaN</td>\n",
              "      <td>NaN</td>\n",
              "      <td>NaN</td>\n",
              "      <td>NaN</td>\n",
              "      <td>NaN</td>\n",
              "      <td>NaN</td>\n",
              "      <td>NaN</td>\n",
              "      <td>NaN</td>\n",
              "      <td>NaN</td>\n",
              "      <td>NaN</td>\n",
              "      <td>NaN</td>\n",
              "      <td>['57’|0:0|Salma Paralluelo|for Alexia Putellas...</td>\n",
              "      <td>['77’|0:0|Rebecka Blomqvist|for Stina Blackste...</td>\n",
              "    </tr>\n",
              "    <tr>\n",
              "      <th>4</th>\n",
              "      <td>Australia</td>\n",
              "      <td>France</td>\n",
              "      <td>0</td>\n",
              "      <td>1.6</td>\n",
              "      <td>7.0</td>\n",
              "      <td>0</td>\n",
              "      <td>2.0</td>\n",
              "      <td>6.0</td>\n",
              "      <td>Tony Gustavsson</td>\n",
              "      <td>Steph Catley</td>\n",
              "      <td>Hervé Renard</td>\n",
              "      <td>Wendie Renard</td>\n",
              "      <td>49461</td>\n",
              "      <td>Suncorp Stadium, Brisbane</td>\n",
              "      <td>María Carvajal (Referee) · Leslie Vásquez (AR1...</td>\n",
              "      <td>Quarter-finals</td>\n",
              "      <td>2023-08-12</td>\n",
              "      <td>(7) 0–0 (6)</td>\n",
              "      <td>María Carvajal</td>\n",
              "      <td>Australia won on penalty kicks following extra...</td>\n",
              "      <td>Australia, New Zealand</td>\n",
              "      <td>2023</td>\n",
              "      <td>NaN</td>\n",
              "      <td>NaN</td>\n",
              "      <td>NaN</td>\n",
              "      <td>NaN</td>\n",
              "      <td>NaN</td>\n",
              "      <td>NaN</td>\n",
              "      <td>NaN</td>\n",
              "      <td>NaN</td>\n",
              "      <td>NaN</td>\n",
              "      <td>NaN</td>\n",
              "      <td>['2|1:0|Caitlin Foord', '6|2:2|Sam Kerr', '8|3...</td>\n",
              "      <td>['3|1:1|Kadidiatou Diani', '5|1:2|Wendie Renar...</td>\n",
              "      <td>['4|1:1|Steph Catley', '10|3:3|Mackenzie Arnol...</td>\n",
              "      <td>['1|0:0|Selma Bacha', '9|3:3|Ève Périsset', '1...</td>\n",
              "      <td>NaN</td>\n",
              "      <td>NaN</td>\n",
              "      <td>NaN</td>\n",
              "      <td>NaN</td>\n",
              "      <td>['92’|0:0|Katrina Gorry']</td>\n",
              "      <td>NaN</td>\n",
              "      <td>['55’|0:0|Sam Kerr|for Emily van Egmond', '104...</td>\n",
              "      <td>['64’|0:0|Vicki Bècho|for Sandie Toletti', '12...</td>\n",
              "    </tr>\n",
              "  </tbody>\n",
              "</table>\n",
              "</div>\n",
              "    <div class=\"colab-df-buttons\">\n",
              "\n",
              "  <div class=\"colab-df-container\">\n",
              "    <button class=\"colab-df-convert\" onclick=\"convertToInteractive('df-23c978ba-7cfc-450a-8156-ceca79557f1e')\"\n",
              "            title=\"Convert this dataframe to an interactive table.\"\n",
              "            style=\"display:none;\">\n",
              "\n",
              "  <svg xmlns=\"http://www.w3.org/2000/svg\" height=\"24px\" viewBox=\"0 -960 960 960\">\n",
              "    <path d=\"M120-120v-720h720v720H120Zm60-500h600v-160H180v160Zm220 220h160v-160H400v160Zm0 220h160v-160H400v160ZM180-400h160v-160H180v160Zm440 0h160v-160H620v160ZM180-180h160v-160H180v160Zm440 0h160v-160H620v160Z\"/>\n",
              "  </svg>\n",
              "    </button>\n",
              "\n",
              "  <style>\n",
              "    .colab-df-container {\n",
              "      display:flex;\n",
              "      gap: 12px;\n",
              "    }\n",
              "\n",
              "    .colab-df-convert {\n",
              "      background-color: #E8F0FE;\n",
              "      border: none;\n",
              "      border-radius: 50%;\n",
              "      cursor: pointer;\n",
              "      display: none;\n",
              "      fill: #1967D2;\n",
              "      height: 32px;\n",
              "      padding: 0 0 0 0;\n",
              "      width: 32px;\n",
              "    }\n",
              "\n",
              "    .colab-df-convert:hover {\n",
              "      background-color: #E2EBFA;\n",
              "      box-shadow: 0px 1px 2px rgba(60, 64, 67, 0.3), 0px 1px 3px 1px rgba(60, 64, 67, 0.15);\n",
              "      fill: #174EA6;\n",
              "    }\n",
              "\n",
              "    .colab-df-buttons div {\n",
              "      margin-bottom: 4px;\n",
              "    }\n",
              "\n",
              "    [theme=dark] .colab-df-convert {\n",
              "      background-color: #3B4455;\n",
              "      fill: #D2E3FC;\n",
              "    }\n",
              "\n",
              "    [theme=dark] .colab-df-convert:hover {\n",
              "      background-color: #434B5C;\n",
              "      box-shadow: 0px 1px 3px 1px rgba(0, 0, 0, 0.15);\n",
              "      filter: drop-shadow(0px 1px 2px rgba(0, 0, 0, 0.3));\n",
              "      fill: #FFFFFF;\n",
              "    }\n",
              "  </style>\n",
              "\n",
              "    <script>\n",
              "      const buttonEl =\n",
              "        document.querySelector('#df-23c978ba-7cfc-450a-8156-ceca79557f1e button.colab-df-convert');\n",
              "      buttonEl.style.display =\n",
              "        google.colab.kernel.accessAllowed ? 'block' : 'none';\n",
              "\n",
              "      async function convertToInteractive(key) {\n",
              "        const element = document.querySelector('#df-23c978ba-7cfc-450a-8156-ceca79557f1e');\n",
              "        const dataTable =\n",
              "          await google.colab.kernel.invokeFunction('convertToInteractive',\n",
              "                                                    [key], {});\n",
              "        if (!dataTable) return;\n",
              "\n",
              "        const docLinkHtml = 'Like what you see? Visit the ' +\n",
              "          '<a target=\"_blank\" href=https://colab.research.google.com/notebooks/data_table.ipynb>data table notebook</a>'\n",
              "          + ' to learn more about interactive tables.';\n",
              "        element.innerHTML = '';\n",
              "        dataTable['output_type'] = 'display_data';\n",
              "        await google.colab.output.renderOutput(dataTable, element);\n",
              "        const docLink = document.createElement('div');\n",
              "        docLink.innerHTML = docLinkHtml;\n",
              "        element.appendChild(docLink);\n",
              "      }\n",
              "    </script>\n",
              "  </div>\n",
              "\n",
              "\n",
              "<div id=\"df-eda1d19e-8632-400e-b042-09c210f10cda\">\n",
              "  <button class=\"colab-df-quickchart\" onclick=\"quickchart('df-eda1d19e-8632-400e-b042-09c210f10cda')\"\n",
              "            title=\"Suggest charts\"\n",
              "            style=\"display:none;\">\n",
              "\n",
              "<svg xmlns=\"http://www.w3.org/2000/svg\" height=\"24px\"viewBox=\"0 0 24 24\"\n",
              "     width=\"24px\">\n",
              "    <g>\n",
              "        <path d=\"M19 3H5c-1.1 0-2 .9-2 2v14c0 1.1.9 2 2 2h14c1.1 0 2-.9 2-2V5c0-1.1-.9-2-2-2zM9 17H7v-7h2v7zm4 0h-2V7h2v10zm4 0h-2v-4h2v4z\"/>\n",
              "    </g>\n",
              "</svg>\n",
              "  </button>\n",
              "\n",
              "<style>\n",
              "  .colab-df-quickchart {\n",
              "      --bg-color: #E8F0FE;\n",
              "      --fill-color: #1967D2;\n",
              "      --hover-bg-color: #E2EBFA;\n",
              "      --hover-fill-color: #174EA6;\n",
              "      --disabled-fill-color: #AAA;\n",
              "      --disabled-bg-color: #DDD;\n",
              "  }\n",
              "\n",
              "  [theme=dark] .colab-df-quickchart {\n",
              "      --bg-color: #3B4455;\n",
              "      --fill-color: #D2E3FC;\n",
              "      --hover-bg-color: #434B5C;\n",
              "      --hover-fill-color: #FFFFFF;\n",
              "      --disabled-bg-color: #3B4455;\n",
              "      --disabled-fill-color: #666;\n",
              "  }\n",
              "\n",
              "  .colab-df-quickchart {\n",
              "    background-color: var(--bg-color);\n",
              "    border: none;\n",
              "    border-radius: 50%;\n",
              "    cursor: pointer;\n",
              "    display: none;\n",
              "    fill: var(--fill-color);\n",
              "    height: 32px;\n",
              "    padding: 0;\n",
              "    width: 32px;\n",
              "  }\n",
              "\n",
              "  .colab-df-quickchart:hover {\n",
              "    background-color: var(--hover-bg-color);\n",
              "    box-shadow: 0 1px 2px rgba(60, 64, 67, 0.3), 0 1px 3px 1px rgba(60, 64, 67, 0.15);\n",
              "    fill: var(--button-hover-fill-color);\n",
              "  }\n",
              "\n",
              "  .colab-df-quickchart-complete:disabled,\n",
              "  .colab-df-quickchart-complete:disabled:hover {\n",
              "    background-color: var(--disabled-bg-color);\n",
              "    fill: var(--disabled-fill-color);\n",
              "    box-shadow: none;\n",
              "  }\n",
              "\n",
              "  .colab-df-spinner {\n",
              "    border: 2px solid var(--fill-color);\n",
              "    border-color: transparent;\n",
              "    border-bottom-color: var(--fill-color);\n",
              "    animation:\n",
              "      spin 1s steps(1) infinite;\n",
              "  }\n",
              "\n",
              "  @keyframes spin {\n",
              "    0% {\n",
              "      border-color: transparent;\n",
              "      border-bottom-color: var(--fill-color);\n",
              "      border-left-color: var(--fill-color);\n",
              "    }\n",
              "    20% {\n",
              "      border-color: transparent;\n",
              "      border-left-color: var(--fill-color);\n",
              "      border-top-color: var(--fill-color);\n",
              "    }\n",
              "    30% {\n",
              "      border-color: transparent;\n",
              "      border-left-color: var(--fill-color);\n",
              "      border-top-color: var(--fill-color);\n",
              "      border-right-color: var(--fill-color);\n",
              "    }\n",
              "    40% {\n",
              "      border-color: transparent;\n",
              "      border-right-color: var(--fill-color);\n",
              "      border-top-color: var(--fill-color);\n",
              "    }\n",
              "    60% {\n",
              "      border-color: transparent;\n",
              "      border-right-color: var(--fill-color);\n",
              "    }\n",
              "    80% {\n",
              "      border-color: transparent;\n",
              "      border-right-color: var(--fill-color);\n",
              "      border-bottom-color: var(--fill-color);\n",
              "    }\n",
              "    90% {\n",
              "      border-color: transparent;\n",
              "      border-bottom-color: var(--fill-color);\n",
              "    }\n",
              "  }\n",
              "</style>\n",
              "\n",
              "  <script>\n",
              "    async function quickchart(key) {\n",
              "      const quickchartButtonEl =\n",
              "        document.querySelector('#' + key + ' button');\n",
              "      quickchartButtonEl.disabled = true;  // To prevent multiple clicks.\n",
              "      quickchartButtonEl.classList.add('colab-df-spinner');\n",
              "      try {\n",
              "        const charts = await google.colab.kernel.invokeFunction(\n",
              "            'suggestCharts', [key], {});\n",
              "      } catch (error) {\n",
              "        console.error('Error during call to suggestCharts:', error);\n",
              "      }\n",
              "      quickchartButtonEl.classList.remove('colab-df-spinner');\n",
              "      quickchartButtonEl.classList.add('colab-df-quickchart-complete');\n",
              "    }\n",
              "    (() => {\n",
              "      let quickchartButtonEl =\n",
              "        document.querySelector('#df-eda1d19e-8632-400e-b042-09c210f10cda button');\n",
              "      quickchartButtonEl.style.display =\n",
              "        google.colab.kernel.accessAllowed ? 'block' : 'none';\n",
              "    })();\n",
              "  </script>\n",
              "</div>\n",
              "\n",
              "    </div>\n",
              "  </div>\n"
            ],
            "application/vnd.google.colaboratory.intrinsic+json": {
              "type": "dataframe",
              "variable_name": "matches"
            }
          },
          "metadata": {},
          "execution_count": 5
        }
      ]
    },
    {
      "cell_type": "code",
      "source": [
        "matches.info()\n",
        "matches.describe()\n",
        "matches.shape"
      ],
      "metadata": {
        "colab": {
          "base_uri": "https://localhost:8080/"
        },
        "id": "2R4477PBZRKi",
        "outputId": "bc37b35d-615e-49f3-cf91-ec0e58e2f4a9"
      },
      "execution_count": null,
      "outputs": [
        {
          "output_type": "stream",
          "name": "stdout",
          "text": [
            "<class 'pandas.core.frame.DataFrame'>\n",
            "RangeIndex: 348 entries, 0 to 347\n",
            "Data columns (total 44 columns):\n",
            " #   Column                           Non-Null Count  Dtype  \n",
            "---  ------                           --------------  -----  \n",
            " 0   home_team                        348 non-null    object \n",
            " 1   away_team                        348 non-null    object \n",
            " 2   home_score                       348 non-null    int64  \n",
            " 3   home_xg                          116 non-null    float64\n",
            " 4   home_penalty                     11 non-null     float64\n",
            " 5   away_score                       348 non-null    int64  \n",
            " 6   away_xg                          116 non-null    float64\n",
            " 7   away_penalty                     11 non-null     float64\n",
            " 8   home_manager                     168 non-null    object \n",
            " 9   home_captain                     168 non-null    object \n",
            " 10  away_manager                     168 non-null    object \n",
            " 11  away_captain                     168 non-null    object \n",
            " 12  Attendance                       348 non-null    int64  \n",
            " 13  Venue                            348 non-null    object \n",
            " 14  Officials                        345 non-null    object \n",
            " 15  Round                            348 non-null    object \n",
            " 16  Date                             348 non-null    object \n",
            " 17  Score                            348 non-null    object \n",
            " 18  Referee                          341 non-null    object \n",
            " 19  Notes                            20 non-null     object \n",
            " 20  Host                             348 non-null    object \n",
            " 21  Year                             348 non-null    int64  \n",
            " 22  home_goal                        252 non-null    object \n",
            " 23  away_goal                        200 non-null    object \n",
            " 24  home_goal_long                   252 non-null    object \n",
            " 25  away_goal_long                   200 non-null    object \n",
            " 26  home_own_goal                    18 non-null     object \n",
            " 27  away_own_goal                    13 non-null     object \n",
            " 28  home_penalty_goal                54 non-null     object \n",
            " 29  away_penalty_goal                35 non-null     object \n",
            " 30  home_penalty_miss_long           13 non-null     object \n",
            " 31  away_penalty_miss_long           7 non-null      object \n",
            " 32  home_penalty_shootout_goal_long  11 non-null     object \n",
            " 33  away_penalty_shootout_goal_long  11 non-null     object \n",
            " 34  home_penalty_shootout_miss_long  8 non-null      object \n",
            " 35  away_penalty_shootout_miss_long  10 non-null     object \n",
            " 36  home_red_card                    8 non-null      object \n",
            " 37  away_red_card                    11 non-null     object \n",
            " 38  home_yellow_red_card             8 non-null      object \n",
            " 39  away_yellow_red_card             3 non-null      object \n",
            " 40  home_yellow_card_long            213 non-null    object \n",
            " 41  away_yellow_card_long            230 non-null    object \n",
            " 42  home_substitute_in_long          344 non-null    object \n",
            " 43  away_substitute_in_long          343 non-null    object \n",
            "dtypes: float64(4), int64(4), object(36)\n",
            "memory usage: 119.8+ KB\n"
          ]
        },
        {
          "output_type": "execute_result",
          "data": {
            "text/plain": [
              "(348, 44)"
            ]
          },
          "metadata": {},
          "execution_count": 836
        }
      ]
    },
    {
      "cell_type": "code",
      "source": [
        "matches[matches.duplicated(keep=False)]"
      ],
      "metadata": {
        "colab": {
          "base_uri": "https://localhost:8080/",
          "height": 99
        },
        "id": "0m6wsZhkZbxe",
        "outputId": "1e36c996-6071-4120-bc6c-ac0dc8bde3df"
      },
      "execution_count": null,
      "outputs": [
        {
          "output_type": "execute_result",
          "data": {
            "text/plain": [
              "Empty DataFrame\n",
              "Columns: [home_team, away_team, home_score, home_xg, home_penalty, away_score, away_xg, away_penalty, home_manager, home_captain, away_manager, away_captain, Attendance, Venue, Officials, Round, Date, Score, Referee, Notes, Host, Year, home_goal, away_goal, home_goal_long, away_goal_long, home_own_goal, away_own_goal, home_penalty_goal, away_penalty_goal, home_penalty_miss_long, away_penalty_miss_long, home_penalty_shootout_goal_long, away_penalty_shootout_goal_long, home_penalty_shootout_miss_long, away_penalty_shootout_miss_long, home_red_card, away_red_card, home_yellow_red_card, away_yellow_red_card, home_yellow_card_long, away_yellow_card_long, home_substitute_in_long, away_substitute_in_long]\n",
              "Index: []\n",
              "\n",
              "[0 rows x 44 columns]"
            ],
            "text/html": [
              "\n",
              "  <div id=\"df-1621cd18-4c45-484d-9806-d9ee40fbc4b3\" class=\"colab-df-container\">\n",
              "    <div>\n",
              "<style scoped>\n",
              "    .dataframe tbody tr th:only-of-type {\n",
              "        vertical-align: middle;\n",
              "    }\n",
              "\n",
              "    .dataframe tbody tr th {\n",
              "        vertical-align: top;\n",
              "    }\n",
              "\n",
              "    .dataframe thead th {\n",
              "        text-align: right;\n",
              "    }\n",
              "</style>\n",
              "<table border=\"1\" class=\"dataframe\">\n",
              "  <thead>\n",
              "    <tr style=\"text-align: right;\">\n",
              "      <th></th>\n",
              "      <th>home_team</th>\n",
              "      <th>away_team</th>\n",
              "      <th>home_score</th>\n",
              "      <th>home_xg</th>\n",
              "      <th>home_penalty</th>\n",
              "      <th>away_score</th>\n",
              "      <th>away_xg</th>\n",
              "      <th>away_penalty</th>\n",
              "      <th>home_manager</th>\n",
              "      <th>home_captain</th>\n",
              "      <th>...</th>\n",
              "      <th>home_penalty_shootout_miss_long</th>\n",
              "      <th>away_penalty_shootout_miss_long</th>\n",
              "      <th>home_red_card</th>\n",
              "      <th>away_red_card</th>\n",
              "      <th>home_yellow_red_card</th>\n",
              "      <th>away_yellow_red_card</th>\n",
              "      <th>home_yellow_card_long</th>\n",
              "      <th>away_yellow_card_long</th>\n",
              "      <th>home_substitute_in_long</th>\n",
              "      <th>away_substitute_in_long</th>\n",
              "    </tr>\n",
              "  </thead>\n",
              "  <tbody>\n",
              "  </tbody>\n",
              "</table>\n",
              "<p>0 rows × 44 columns</p>\n",
              "</div>\n",
              "    <div class=\"colab-df-buttons\">\n",
              "\n",
              "  <div class=\"colab-df-container\">\n",
              "    <button class=\"colab-df-convert\" onclick=\"convertToInteractive('df-1621cd18-4c45-484d-9806-d9ee40fbc4b3')\"\n",
              "            title=\"Convert this dataframe to an interactive table.\"\n",
              "            style=\"display:none;\">\n",
              "\n",
              "  <svg xmlns=\"http://www.w3.org/2000/svg\" height=\"24px\" viewBox=\"0 -960 960 960\">\n",
              "    <path d=\"M120-120v-720h720v720H120Zm60-500h600v-160H180v160Zm220 220h160v-160H400v160Zm0 220h160v-160H400v160ZM180-400h160v-160H180v160Zm440 0h160v-160H620v160ZM180-180h160v-160H180v160Zm440 0h160v-160H620v160Z\"/>\n",
              "  </svg>\n",
              "    </button>\n",
              "\n",
              "  <style>\n",
              "    .colab-df-container {\n",
              "      display:flex;\n",
              "      gap: 12px;\n",
              "    }\n",
              "\n",
              "    .colab-df-convert {\n",
              "      background-color: #E8F0FE;\n",
              "      border: none;\n",
              "      border-radius: 50%;\n",
              "      cursor: pointer;\n",
              "      display: none;\n",
              "      fill: #1967D2;\n",
              "      height: 32px;\n",
              "      padding: 0 0 0 0;\n",
              "      width: 32px;\n",
              "    }\n",
              "\n",
              "    .colab-df-convert:hover {\n",
              "      background-color: #E2EBFA;\n",
              "      box-shadow: 0px 1px 2px rgba(60, 64, 67, 0.3), 0px 1px 3px 1px rgba(60, 64, 67, 0.15);\n",
              "      fill: #174EA6;\n",
              "    }\n",
              "\n",
              "    .colab-df-buttons div {\n",
              "      margin-bottom: 4px;\n",
              "    }\n",
              "\n",
              "    [theme=dark] .colab-df-convert {\n",
              "      background-color: #3B4455;\n",
              "      fill: #D2E3FC;\n",
              "    }\n",
              "\n",
              "    [theme=dark] .colab-df-convert:hover {\n",
              "      background-color: #434B5C;\n",
              "      box-shadow: 0px 1px 3px 1px rgba(0, 0, 0, 0.15);\n",
              "      filter: drop-shadow(0px 1px 2px rgba(0, 0, 0, 0.3));\n",
              "      fill: #FFFFFF;\n",
              "    }\n",
              "  </style>\n",
              "\n",
              "    <script>\n",
              "      const buttonEl =\n",
              "        document.querySelector('#df-1621cd18-4c45-484d-9806-d9ee40fbc4b3 button.colab-df-convert');\n",
              "      buttonEl.style.display =\n",
              "        google.colab.kernel.accessAllowed ? 'block' : 'none';\n",
              "\n",
              "      async function convertToInteractive(key) {\n",
              "        const element = document.querySelector('#df-1621cd18-4c45-484d-9806-d9ee40fbc4b3');\n",
              "        const dataTable =\n",
              "          await google.colab.kernel.invokeFunction('convertToInteractive',\n",
              "                                                    [key], {});\n",
              "        if (!dataTable) return;\n",
              "\n",
              "        const docLinkHtml = 'Like what you see? Visit the ' +\n",
              "          '<a target=\"_blank\" href=https://colab.research.google.com/notebooks/data_table.ipynb>data table notebook</a>'\n",
              "          + ' to learn more about interactive tables.';\n",
              "        element.innerHTML = '';\n",
              "        dataTable['output_type'] = 'display_data';\n",
              "        await google.colab.output.renderOutput(dataTable, element);\n",
              "        const docLink = document.createElement('div');\n",
              "        docLink.innerHTML = docLinkHtml;\n",
              "        element.appendChild(docLink);\n",
              "      }\n",
              "    </script>\n",
              "  </div>\n",
              "\n",
              "\n",
              "    </div>\n",
              "  </div>\n"
            ],
            "application/vnd.google.colaboratory.intrinsic+json": {
              "type": "dataframe"
            }
          },
          "metadata": {},
          "execution_count": 837
        }
      ]
    },
    {
      "cell_type": "code",
      "source": [
        "matches.isnull().any()"
      ],
      "metadata": {
        "colab": {
          "base_uri": "https://localhost:8080/",
          "height": 1000
        },
        "collapsed": true,
        "id": "3x7qngnKZk8_",
        "outputId": "d9de53d6-e53d-4c86-ce53-1167ab052364"
      },
      "execution_count": null,
      "outputs": [
        {
          "output_type": "execute_result",
          "data": {
            "text/plain": [
              "home_team                          False\n",
              "away_team                          False\n",
              "home_score                         False\n",
              "home_xg                             True\n",
              "home_penalty                        True\n",
              "away_score                         False\n",
              "away_xg                             True\n",
              "away_penalty                        True\n",
              "home_manager                        True\n",
              "home_captain                        True\n",
              "away_manager                        True\n",
              "away_captain                        True\n",
              "Attendance                         False\n",
              "Venue                              False\n",
              "Officials                           True\n",
              "Round                              False\n",
              "Date                               False\n",
              "Score                              False\n",
              "Referee                             True\n",
              "Notes                               True\n",
              "Host                               False\n",
              "Year                               False\n",
              "home_goal                           True\n",
              "away_goal                           True\n",
              "home_goal_long                      True\n",
              "away_goal_long                      True\n",
              "home_own_goal                       True\n",
              "away_own_goal                       True\n",
              "home_penalty_goal                   True\n",
              "away_penalty_goal                   True\n",
              "home_penalty_miss_long              True\n",
              "away_penalty_miss_long              True\n",
              "home_penalty_shootout_goal_long     True\n",
              "away_penalty_shootout_goal_long     True\n",
              "home_penalty_shootout_miss_long     True\n",
              "away_penalty_shootout_miss_long     True\n",
              "home_red_card                       True\n",
              "away_red_card                       True\n",
              "home_yellow_red_card                True\n",
              "away_yellow_red_card                True\n",
              "home_yellow_card_long               True\n",
              "away_yellow_card_long               True\n",
              "home_substitute_in_long             True\n",
              "away_substitute_in_long             True\n",
              "dtype: bool"
            ],
            "text/html": [
              "<div>\n",
              "<style scoped>\n",
              "    .dataframe tbody tr th:only-of-type {\n",
              "        vertical-align: middle;\n",
              "    }\n",
              "\n",
              "    .dataframe tbody tr th {\n",
              "        vertical-align: top;\n",
              "    }\n",
              "\n",
              "    .dataframe thead th {\n",
              "        text-align: right;\n",
              "    }\n",
              "</style>\n",
              "<table border=\"1\" class=\"dataframe\">\n",
              "  <thead>\n",
              "    <tr style=\"text-align: right;\">\n",
              "      <th></th>\n",
              "      <th>0</th>\n",
              "    </tr>\n",
              "  </thead>\n",
              "  <tbody>\n",
              "    <tr>\n",
              "      <th>home_team</th>\n",
              "      <td>False</td>\n",
              "    </tr>\n",
              "    <tr>\n",
              "      <th>away_team</th>\n",
              "      <td>False</td>\n",
              "    </tr>\n",
              "    <tr>\n",
              "      <th>home_score</th>\n",
              "      <td>False</td>\n",
              "    </tr>\n",
              "    <tr>\n",
              "      <th>home_xg</th>\n",
              "      <td>True</td>\n",
              "    </tr>\n",
              "    <tr>\n",
              "      <th>home_penalty</th>\n",
              "      <td>True</td>\n",
              "    </tr>\n",
              "    <tr>\n",
              "      <th>away_score</th>\n",
              "      <td>False</td>\n",
              "    </tr>\n",
              "    <tr>\n",
              "      <th>away_xg</th>\n",
              "      <td>True</td>\n",
              "    </tr>\n",
              "    <tr>\n",
              "      <th>away_penalty</th>\n",
              "      <td>True</td>\n",
              "    </tr>\n",
              "    <tr>\n",
              "      <th>home_manager</th>\n",
              "      <td>True</td>\n",
              "    </tr>\n",
              "    <tr>\n",
              "      <th>home_captain</th>\n",
              "      <td>True</td>\n",
              "    </tr>\n",
              "    <tr>\n",
              "      <th>away_manager</th>\n",
              "      <td>True</td>\n",
              "    </tr>\n",
              "    <tr>\n",
              "      <th>away_captain</th>\n",
              "      <td>True</td>\n",
              "    </tr>\n",
              "    <tr>\n",
              "      <th>Attendance</th>\n",
              "      <td>False</td>\n",
              "    </tr>\n",
              "    <tr>\n",
              "      <th>Venue</th>\n",
              "      <td>False</td>\n",
              "    </tr>\n",
              "    <tr>\n",
              "      <th>Officials</th>\n",
              "      <td>True</td>\n",
              "    </tr>\n",
              "    <tr>\n",
              "      <th>Round</th>\n",
              "      <td>False</td>\n",
              "    </tr>\n",
              "    <tr>\n",
              "      <th>Date</th>\n",
              "      <td>False</td>\n",
              "    </tr>\n",
              "    <tr>\n",
              "      <th>Score</th>\n",
              "      <td>False</td>\n",
              "    </tr>\n",
              "    <tr>\n",
              "      <th>Referee</th>\n",
              "      <td>True</td>\n",
              "    </tr>\n",
              "    <tr>\n",
              "      <th>Notes</th>\n",
              "      <td>True</td>\n",
              "    </tr>\n",
              "    <tr>\n",
              "      <th>Host</th>\n",
              "      <td>False</td>\n",
              "    </tr>\n",
              "    <tr>\n",
              "      <th>Year</th>\n",
              "      <td>False</td>\n",
              "    </tr>\n",
              "    <tr>\n",
              "      <th>home_goal</th>\n",
              "      <td>True</td>\n",
              "    </tr>\n",
              "    <tr>\n",
              "      <th>away_goal</th>\n",
              "      <td>True</td>\n",
              "    </tr>\n",
              "    <tr>\n",
              "      <th>home_goal_long</th>\n",
              "      <td>True</td>\n",
              "    </tr>\n",
              "    <tr>\n",
              "      <th>away_goal_long</th>\n",
              "      <td>True</td>\n",
              "    </tr>\n",
              "    <tr>\n",
              "      <th>home_own_goal</th>\n",
              "      <td>True</td>\n",
              "    </tr>\n",
              "    <tr>\n",
              "      <th>away_own_goal</th>\n",
              "      <td>True</td>\n",
              "    </tr>\n",
              "    <tr>\n",
              "      <th>home_penalty_goal</th>\n",
              "      <td>True</td>\n",
              "    </tr>\n",
              "    <tr>\n",
              "      <th>away_penalty_goal</th>\n",
              "      <td>True</td>\n",
              "    </tr>\n",
              "    <tr>\n",
              "      <th>home_penalty_miss_long</th>\n",
              "      <td>True</td>\n",
              "    </tr>\n",
              "    <tr>\n",
              "      <th>away_penalty_miss_long</th>\n",
              "      <td>True</td>\n",
              "    </tr>\n",
              "    <tr>\n",
              "      <th>home_penalty_shootout_goal_long</th>\n",
              "      <td>True</td>\n",
              "    </tr>\n",
              "    <tr>\n",
              "      <th>away_penalty_shootout_goal_long</th>\n",
              "      <td>True</td>\n",
              "    </tr>\n",
              "    <tr>\n",
              "      <th>home_penalty_shootout_miss_long</th>\n",
              "      <td>True</td>\n",
              "    </tr>\n",
              "    <tr>\n",
              "      <th>away_penalty_shootout_miss_long</th>\n",
              "      <td>True</td>\n",
              "    </tr>\n",
              "    <tr>\n",
              "      <th>home_red_card</th>\n",
              "      <td>True</td>\n",
              "    </tr>\n",
              "    <tr>\n",
              "      <th>away_red_card</th>\n",
              "      <td>True</td>\n",
              "    </tr>\n",
              "    <tr>\n",
              "      <th>home_yellow_red_card</th>\n",
              "      <td>True</td>\n",
              "    </tr>\n",
              "    <tr>\n",
              "      <th>away_yellow_red_card</th>\n",
              "      <td>True</td>\n",
              "    </tr>\n",
              "    <tr>\n",
              "      <th>home_yellow_card_long</th>\n",
              "      <td>True</td>\n",
              "    </tr>\n",
              "    <tr>\n",
              "      <th>away_yellow_card_long</th>\n",
              "      <td>True</td>\n",
              "    </tr>\n",
              "    <tr>\n",
              "      <th>home_substitute_in_long</th>\n",
              "      <td>True</td>\n",
              "    </tr>\n",
              "    <tr>\n",
              "      <th>away_substitute_in_long</th>\n",
              "      <td>True</td>\n",
              "    </tr>\n",
              "  </tbody>\n",
              "</table>\n",
              "</div><br><label><b>dtype:</b> bool</label>"
            ]
          },
          "metadata": {},
          "execution_count": 838
        }
      ]
    },
    {
      "cell_type": "code",
      "source": [
        "matches.isnull().sum().sort_values()"
      ],
      "metadata": {
        "colab": {
          "base_uri": "https://localhost:8080/",
          "height": 1000
        },
        "id": "4CLpaB5zZuQh",
        "outputId": "ad5bdee8-2c53-4262-9559-4891cd8b0be5"
      },
      "execution_count": 5,
      "outputs": [
        {
          "output_type": "execute_result",
          "data": {
            "text/plain": [
              "home_team                            0\n",
              "Host                                 0\n",
              "Score                                0\n",
              "Date                                 0\n",
              "Round                                0\n",
              "Venue                                0\n",
              "Attendance                           0\n",
              "Year                                 0\n",
              "away_score                           0\n",
              "home_score                           0\n",
              "away_team                            0\n",
              "Officials                            3\n",
              "home_substitute_in_long              4\n",
              "away_substitute_in_long              5\n",
              "Referee                              7\n",
              "home_goal_long                      96\n",
              "home_goal                           96\n",
              "away_yellow_card_long              118\n",
              "home_yellow_card_long              135\n",
              "away_goal                          148\n",
              "away_goal_long                     148\n",
              "home_manager                       180\n",
              "home_captain                       180\n",
              "away_manager                       180\n",
              "away_captain                       180\n",
              "home_xg                            232\n",
              "away_xg                            232\n",
              "home_penalty_goal                  294\n",
              "away_penalty_goal                  313\n",
              "Notes                              328\n",
              "home_own_goal                      330\n",
              "away_own_goal                      335\n",
              "home_penalty_miss_long             335\n",
              "home_penalty                       337\n",
              "away_red_card                      337\n",
              "home_penalty_shootout_goal_long    337\n",
              "away_penalty                       337\n",
              "away_penalty_shootout_goal_long    337\n",
              "away_penalty_shootout_miss_long    338\n",
              "home_red_card                      340\n",
              "home_yellow_red_card               340\n",
              "home_penalty_shootout_miss_long    340\n",
              "away_penalty_miss_long             341\n",
              "away_yellow_red_card               345\n",
              "dtype: int64"
            ],
            "text/html": [
              "<div>\n",
              "<style scoped>\n",
              "    .dataframe tbody tr th:only-of-type {\n",
              "        vertical-align: middle;\n",
              "    }\n",
              "\n",
              "    .dataframe tbody tr th {\n",
              "        vertical-align: top;\n",
              "    }\n",
              "\n",
              "    .dataframe thead th {\n",
              "        text-align: right;\n",
              "    }\n",
              "</style>\n",
              "<table border=\"1\" class=\"dataframe\">\n",
              "  <thead>\n",
              "    <tr style=\"text-align: right;\">\n",
              "      <th></th>\n",
              "      <th>0</th>\n",
              "    </tr>\n",
              "  </thead>\n",
              "  <tbody>\n",
              "    <tr>\n",
              "      <th>home_team</th>\n",
              "      <td>0</td>\n",
              "    </tr>\n",
              "    <tr>\n",
              "      <th>Host</th>\n",
              "      <td>0</td>\n",
              "    </tr>\n",
              "    <tr>\n",
              "      <th>Score</th>\n",
              "      <td>0</td>\n",
              "    </tr>\n",
              "    <tr>\n",
              "      <th>Date</th>\n",
              "      <td>0</td>\n",
              "    </tr>\n",
              "    <tr>\n",
              "      <th>Round</th>\n",
              "      <td>0</td>\n",
              "    </tr>\n",
              "    <tr>\n",
              "      <th>Venue</th>\n",
              "      <td>0</td>\n",
              "    </tr>\n",
              "    <tr>\n",
              "      <th>Attendance</th>\n",
              "      <td>0</td>\n",
              "    </tr>\n",
              "    <tr>\n",
              "      <th>Year</th>\n",
              "      <td>0</td>\n",
              "    </tr>\n",
              "    <tr>\n",
              "      <th>away_score</th>\n",
              "      <td>0</td>\n",
              "    </tr>\n",
              "    <tr>\n",
              "      <th>home_score</th>\n",
              "      <td>0</td>\n",
              "    </tr>\n",
              "    <tr>\n",
              "      <th>away_team</th>\n",
              "      <td>0</td>\n",
              "    </tr>\n",
              "    <tr>\n",
              "      <th>Officials</th>\n",
              "      <td>3</td>\n",
              "    </tr>\n",
              "    <tr>\n",
              "      <th>home_substitute_in_long</th>\n",
              "      <td>4</td>\n",
              "    </tr>\n",
              "    <tr>\n",
              "      <th>away_substitute_in_long</th>\n",
              "      <td>5</td>\n",
              "    </tr>\n",
              "    <tr>\n",
              "      <th>Referee</th>\n",
              "      <td>7</td>\n",
              "    </tr>\n",
              "    <tr>\n",
              "      <th>home_goal_long</th>\n",
              "      <td>96</td>\n",
              "    </tr>\n",
              "    <tr>\n",
              "      <th>home_goal</th>\n",
              "      <td>96</td>\n",
              "    </tr>\n",
              "    <tr>\n",
              "      <th>away_yellow_card_long</th>\n",
              "      <td>118</td>\n",
              "    </tr>\n",
              "    <tr>\n",
              "      <th>home_yellow_card_long</th>\n",
              "      <td>135</td>\n",
              "    </tr>\n",
              "    <tr>\n",
              "      <th>away_goal</th>\n",
              "      <td>148</td>\n",
              "    </tr>\n",
              "    <tr>\n",
              "      <th>away_goal_long</th>\n",
              "      <td>148</td>\n",
              "    </tr>\n",
              "    <tr>\n",
              "      <th>home_manager</th>\n",
              "      <td>180</td>\n",
              "    </tr>\n",
              "    <tr>\n",
              "      <th>home_captain</th>\n",
              "      <td>180</td>\n",
              "    </tr>\n",
              "    <tr>\n",
              "      <th>away_manager</th>\n",
              "      <td>180</td>\n",
              "    </tr>\n",
              "    <tr>\n",
              "      <th>away_captain</th>\n",
              "      <td>180</td>\n",
              "    </tr>\n",
              "    <tr>\n",
              "      <th>home_xg</th>\n",
              "      <td>232</td>\n",
              "    </tr>\n",
              "    <tr>\n",
              "      <th>away_xg</th>\n",
              "      <td>232</td>\n",
              "    </tr>\n",
              "    <tr>\n",
              "      <th>home_penalty_goal</th>\n",
              "      <td>294</td>\n",
              "    </tr>\n",
              "    <tr>\n",
              "      <th>away_penalty_goal</th>\n",
              "      <td>313</td>\n",
              "    </tr>\n",
              "    <tr>\n",
              "      <th>Notes</th>\n",
              "      <td>328</td>\n",
              "    </tr>\n",
              "    <tr>\n",
              "      <th>home_own_goal</th>\n",
              "      <td>330</td>\n",
              "    </tr>\n",
              "    <tr>\n",
              "      <th>away_own_goal</th>\n",
              "      <td>335</td>\n",
              "    </tr>\n",
              "    <tr>\n",
              "      <th>home_penalty_miss_long</th>\n",
              "      <td>335</td>\n",
              "    </tr>\n",
              "    <tr>\n",
              "      <th>home_penalty</th>\n",
              "      <td>337</td>\n",
              "    </tr>\n",
              "    <tr>\n",
              "      <th>away_red_card</th>\n",
              "      <td>337</td>\n",
              "    </tr>\n",
              "    <tr>\n",
              "      <th>home_penalty_shootout_goal_long</th>\n",
              "      <td>337</td>\n",
              "    </tr>\n",
              "    <tr>\n",
              "      <th>away_penalty</th>\n",
              "      <td>337</td>\n",
              "    </tr>\n",
              "    <tr>\n",
              "      <th>away_penalty_shootout_goal_long</th>\n",
              "      <td>337</td>\n",
              "    </tr>\n",
              "    <tr>\n",
              "      <th>away_penalty_shootout_miss_long</th>\n",
              "      <td>338</td>\n",
              "    </tr>\n",
              "    <tr>\n",
              "      <th>home_red_card</th>\n",
              "      <td>340</td>\n",
              "    </tr>\n",
              "    <tr>\n",
              "      <th>home_yellow_red_card</th>\n",
              "      <td>340</td>\n",
              "    </tr>\n",
              "    <tr>\n",
              "      <th>home_penalty_shootout_miss_long</th>\n",
              "      <td>340</td>\n",
              "    </tr>\n",
              "    <tr>\n",
              "      <th>away_penalty_miss_long</th>\n",
              "      <td>341</td>\n",
              "    </tr>\n",
              "    <tr>\n",
              "      <th>away_yellow_red_card</th>\n",
              "      <td>345</td>\n",
              "    </tr>\n",
              "  </tbody>\n",
              "</table>\n",
              "</div><br><label><b>dtype:</b> int64</label>"
            ]
          },
          "metadata": {},
          "execution_count": 5
        }
      ]
    },
    {
      "cell_type": "code",
      "source": [
        "matches.columns[matches.isnull().any()]"
      ],
      "metadata": {
        "colab": {
          "base_uri": "https://localhost:8080/"
        },
        "id": "FRfSBuyBZ-ie",
        "outputId": "8fd3a6d1-4f7f-4559-fc11-4463412b3e42"
      },
      "execution_count": null,
      "outputs": [
        {
          "output_type": "execute_result",
          "data": {
            "text/plain": [
              "Index(['home_xg', 'home_penalty', 'away_xg', 'away_penalty', 'home_manager',\n",
              "       'home_captain', 'away_manager', 'away_captain', 'Officials', 'Referee',\n",
              "       'Notes', 'home_goal', 'away_goal', 'home_goal_long', 'away_goal_long',\n",
              "       'home_own_goal', 'away_own_goal', 'home_penalty_goal',\n",
              "       'away_penalty_goal', 'home_penalty_miss_long', 'away_penalty_miss_long',\n",
              "       'home_penalty_shootout_goal_long', 'away_penalty_shootout_goal_long',\n",
              "       'home_penalty_shootout_miss_long', 'away_penalty_shootout_miss_long',\n",
              "       'home_red_card', 'away_red_card', 'home_yellow_red_card',\n",
              "       'away_yellow_red_card', 'home_yellow_card_long',\n",
              "       'away_yellow_card_long', 'home_substitute_in_long',\n",
              "       'away_substitute_in_long'],\n",
              "      dtype='object')"
            ]
          },
          "metadata": {},
          "execution_count": 840
        }
      ]
    },
    {
      "cell_type": "markdown",
      "source": [
        "# Filling the home, and away XG with mean or median values.\n",
        "This was not a good idea, as the hist was changing a lot, hence tried a different technique."
      ],
      "metadata": {
        "id": "wkaqPJ-fiLys"
      }
    },
    {
      "cell_type": "code",
      "source": [
        "#matches.hist(column='home_xg')"
      ],
      "metadata": {
        "id": "HRzpOrjde_KY",
        "colab": {
          "base_uri": "https://localhost:8080/",
          "height": 469
        },
        "outputId": "4c54c11f-ca98-483a-ab18-acfb808c8130"
      },
      "execution_count": 6,
      "outputs": [
        {
          "output_type": "execute_result",
          "data": {
            "text/plain": [
              "array([[<Axes: title={'center': 'home_xg'}>]], dtype=object)"
            ]
          },
          "metadata": {},
          "execution_count": 6
        },
        {
          "output_type": "display_data",
          "data": {
            "text/plain": [
              "<Figure size 640x480 with 1 Axes>"
            ],
            "image/png": "[encoded data removed]"
          },
          "metadata": {}
        }
      ]
    },
    {
      "cell_type": "code",
      "source": [
        "#home_xg_mean = matches['home_xg'].mean()\n",
        "#home_xg_mean"
      ],
      "metadata": {
        "id": "DAEGhEtBfUOW"
      },
      "execution_count": 7,
      "outputs": []
    },
    {
      "cell_type": "code",
      "source": [
        "#matches[\"home_xg\"].fillna(home_xg_mean, inplace=True)"
      ],
      "metadata": {
        "id": "fdgdIooZffHC",
        "colab": {
          "base_uri": "https://localhost:8080/"
        },
        "outputId": "488d0e47-d733-4e2e-e4b7-53e495f54a1f"
      },
      "execution_count": 8,
      "outputs": [
        {
          "output_type": "stream",
          "name": "stderr",
          "text": [
            "<ipython-input-8-c54625b1d60e>:1: FutureWarning: A value is trying to be set on a copy of a DataFrame or Series through chained assignment using an inplace method.\n",
            "The behavior will change in pandas 3.0. This inplace method will never work because the intermediate object on which we are setting values always behaves as a copy.\n",
            "\n",
            "For example, when doing 'df[col].method(value, inplace=True)', try using 'df.method({col: value}, inplace=True)' or df[col] = df[col].method(value) instead, to perform the operation inplace on the original object.\n",
            "\n",
            "\n",
            "  matches[\"home_xg\"].fillna(home_xg_mean, inplace=True)\n"
          ]
        }
      ]
    },
    {
      "cell_type": "code",
      "source": [
        "#matches.hist(column='home_xg')"
      ],
      "metadata": {
        "id": "-CZgPasbg2dh",
        "colab": {
          "base_uri": "https://localhost:8080/",
          "height": 469
        },
        "outputId": "9017e970-dc5f-4f58-cf26-f07e6af018e5"
      },
      "execution_count": 9,
      "outputs": [
        {
          "output_type": "execute_result",
          "data": {
            "text/plain": [
              "array([[<Axes: title={'center': 'home_xg'}>]], dtype=object)"
            ]
          },
          "metadata": {},
          "execution_count": 9
        },
        {
          "output_type": "display_data",
          "data": {
            "text/plain": [
              "<Figure size 640x480 with 1 Axes>"
            ],
            "image/png": "[encoded data removed]"
          },
          "metadata": {}
        }
      ]
    },
    {
      "cell_type": "code",
      "source": [
        "#matches.hist(column='away_xg')"
      ],
      "metadata": {
        "id": "HGzcvNxkgyMp"
      },
      "execution_count": null,
      "outputs": []
    },
    {
      "cell_type": "code",
      "source": [
        "#away_xg_mean = matches['away_xg'].median()\n",
        "#away_xg_mean"
      ],
      "metadata": {
        "id": "PL6s6oUVgQpg"
      },
      "execution_count": null,
      "outputs": []
    },
    {
      "cell_type": "code",
      "source": [
        "#matches[\"away_xg\"].fillna(away_xg_mean, inplace=True)"
      ],
      "metadata": {
        "id": "G_EJqPlNgo71"
      },
      "execution_count": null,
      "outputs": []
    },
    {
      "cell_type": "code",
      "source": [
        "#matches.hist(column='away_xg')"
      ],
      "metadata": {
        "id": "nDyBydvGgsgj"
      },
      "execution_count": null,
      "outputs": []
    },
    {
      "cell_type": "markdown",
      "source": [
        "# Filling the away and home XG based on the average of each team\n",
        "\n",
        "For each team that doesn't have the average, we will use the mean value"
      ],
      "metadata": {
        "id": "0HvdBBd6iper"
      }
    },
    {
      "cell_type": "markdown",
      "source": [
        "## Filling the home team xg"
      ],
      "metadata": {
        "id": "TeIWA0u654lL"
      }
    },
    {
      "cell_type": "code",
      "source": [
        "matches.hist(column='home_xg')"
      ],
      "metadata": {
        "colab": {
          "base_uri": "https://localhost:8080/",
          "height": 469
        },
        "collapsed": true,
        "id": "HAcVf92SoAXK",
        "outputId": "63590f7f-2665-4122-eeca-d23ba881c534"
      },
      "execution_count": 11,
      "outputs": [
        {
          "output_type": "execute_result",
          "data": {
            "text/plain": [
              "array([[<Axes: title={'center': 'home_xg'}>]], dtype=object)"
            ]
          },
          "metadata": {},
          "execution_count": 11
        },
        {
          "output_type": "display_data",
          "data": {
            "text/plain": [
              "<Figure size 640x480 with 1 Axes>"
            ],
            "image/png": "[encoded data removed]"
          },
          "metadata": {}
        }
      ]
    },
    {
      "cell_type": "code",
      "source": [
        "home_xg_group = matches.groupby('home_team')['home_xg'].mean()\n",
        "home_xg_group"
      ],
      "metadata": {
        "colab": {
          "base_uri": "https://localhost:8080/",
          "height": 1000
        },
        "collapsed": true,
        "id": "LClUY-vfit7S",
        "outputId": "50b65f96-77c8-4bfa-b271-f3bcd621c3c6"
      },
      "execution_count": 12,
      "outputs": [
        {
          "output_type": "execute_result",
          "data": {
            "text/plain": [
              "home_team\n",
              "Argentina              0.433333\n",
              "Australia              1.600000\n",
              "Brazil                 4.000000\n",
              "Cameroon               3.100000\n",
              "Canada                 1.975000\n",
              "Chile                  0.200000\n",
              "China PR               0.866667\n",
              "Chinese Taipei              NaN\n",
              "Colombia               1.250000\n",
              "Costa Rica             2.100000\n",
              "Côte d'Ivoire               NaN\n",
              "Denmark                1.100000\n",
              "Ecuador                     NaN\n",
              "England                1.800000\n",
              "Equatorial Guinea           NaN\n",
              "France                 1.971429\n",
              "Germany                1.700000\n",
              "Ghana                       NaN\n",
              "Haiti                  0.500000\n",
              "Italy                  1.025000\n",
              "Jamaica                0.466667\n",
              "Japan                  1.683333\n",
              "Korea DPR                   NaN\n",
              "Korea Republic         1.500000\n",
              "Mexico                      NaN\n",
              "Morocco                1.200000\n",
              "Netherlands            1.633333\n",
              "New Zealand            1.433333\n",
              "Nigeria                0.533333\n",
              "Norway                 1.875000\n",
              "Panama                 1.000000\n",
              "Philippines            0.100000\n",
              "Portugal               2.600000\n",
              "Republic of Ireland    0.500000\n",
              "Russia                      NaN\n",
              "Scotland               2.200000\n",
              "South Africa           0.700000\n",
              "Spain                  2.828571\n",
              "Sweden                 2.157143\n",
              "Switzerland            0.466667\n",
              "Thailand               0.300000\n",
              "United States          3.880000\n",
              "Vietnam                0.400000\n",
              "Zambia                 0.000000\n",
              "Name: home_xg, dtype: float64"
            ],
            "text/html": [
              "<div>\n",
              "<style scoped>\n",
              "    .dataframe tbody tr th:only-of-type {\n",
              "        vertical-align: middle;\n",
              "    }\n",
              "\n",
              "    .dataframe tbody tr th {\n",
              "        vertical-align: top;\n",
              "    }\n",
              "\n",
              "    .dataframe thead th {\n",
              "        text-align: right;\n",
              "    }\n",
              "</style>\n",
              "<table border=\"1\" class=\"dataframe\">\n",
              "  <thead>\n",
              "    <tr style=\"text-align: right;\">\n",
              "      <th></th>\n",
              "      <th>home_xg</th>\n",
              "    </tr>\n",
              "    <tr>\n",
              "      <th>home_team</th>\n",
              "      <th></th>\n",
              "    </tr>\n",
              "  </thead>\n",
              "  <tbody>\n",
              "    <tr>\n",
              "      <th>Argentina</th>\n",
              "      <td>0.433333</td>\n",
              "    </tr>\n",
              "    <tr>\n",
              "      <th>Australia</th>\n",
              "      <td>1.600000</td>\n",
              "    </tr>\n",
              "    <tr>\n",
              "      <th>Brazil</th>\n",
              "      <td>4.000000</td>\n",
              "    </tr>\n",
              "    <tr>\n",
              "      <th>Cameroon</th>\n",
              "      <td>3.100000</td>\n",
              "    </tr>\n",
              "    <tr>\n",
              "      <th>Canada</th>\n",
              "      <td>1.975000</td>\n",
              "    </tr>\n",
              "    <tr>\n",
              "      <th>Chile</th>\n",
              "      <td>0.200000</td>\n",
              "    </tr>\n",
              "    <tr>\n",
              "      <th>China PR</th>\n",
              "      <td>0.866667</td>\n",
              "    </tr>\n",
              "    <tr>\n",
              "      <th>Chinese Taipei</th>\n",
              "      <td>NaN</td>\n",
              "    </tr>\n",
              "    <tr>\n",
              "      <th>Colombia</th>\n",
              "      <td>1.250000</td>\n",
              "    </tr>\n",
              "    <tr>\n",
              "      <th>Costa Rica</th>\n",
              "      <td>2.100000</td>\n",
              "    </tr>\n",
              "    <tr>\n",
              "      <th>Côte d'Ivoire</th>\n",
              "      <td>NaN</td>\n",
              "    </tr>\n",
              "    <tr>\n",
              "      <th>Denmark</th>\n",
              "      <td>1.100000</td>\n",
              "    </tr>\n",
              "    <tr>\n",
              "      <th>Ecuador</th>\n",
              "      <td>NaN</td>\n",
              "    </tr>\n",
              "    <tr>\n",
              "      <th>England</th>\n",
              "      <td>1.800000</td>\n",
              "    </tr>\n",
              "    <tr>\n",
              "      <th>Equatorial Guinea</th>\n",
              "      <td>NaN</td>\n",
              "    </tr>\n",
              "    <tr>\n",
              "      <th>France</th>\n",
              "      <td>1.971429</td>\n",
              "    </tr>\n",
              "    <tr>\n",
              "      <th>Germany</th>\n",
              "      <td>1.700000</td>\n",
              "    </tr>\n",
              "    <tr>\n",
              "      <th>Ghana</th>\n",
              "      <td>NaN</td>\n",
              "    </tr>\n",
              "    <tr>\n",
              "      <th>Haiti</th>\n",
              "      <td>0.500000</td>\n",
              "    </tr>\n",
              "    <tr>\n",
              "      <th>Italy</th>\n",
              "      <td>1.025000</td>\n",
              "    </tr>\n",
              "    <tr>\n",
              "      <th>Jamaica</th>\n",
              "      <td>0.466667</td>\n",
              "    </tr>\n",
              "    <tr>\n",
              "      <th>Japan</th>\n",
              "      <td>1.683333</td>\n",
              "    </tr>\n",
              "    <tr>\n",
              "      <th>Korea DPR</th>\n",
              "      <td>NaN</td>\n",
              "    </tr>\n",
              "    <tr>\n",
              "      <th>Korea Republic</th>\n",
              "      <td>1.500000</td>\n",
              "    </tr>\n",
              "    <tr>\n",
              "      <th>Mexico</th>\n",
              "      <td>NaN</td>\n",
              "    </tr>\n",
              "    <tr>\n",
              "      <th>Morocco</th>\n",
              "      <td>1.200000</td>\n",
              "    </tr>\n",
              "    <tr>\n",
              "      <th>Netherlands</th>\n",
              "      <td>1.633333</td>\n",
              "    </tr>\n",
              "    <tr>\n",
              "      <th>New Zealand</th>\n",
              "      <td>1.433333</td>\n",
              "    </tr>\n",
              "    <tr>\n",
              "      <th>Nigeria</th>\n",
              "      <td>0.533333</td>\n",
              "    </tr>\n",
              "    <tr>\n",
              "      <th>Norway</th>\n",
              "      <td>1.875000</td>\n",
              "    </tr>\n",
              "    <tr>\n",
              "      <th>Panama</th>\n",
              "      <td>1.000000</td>\n",
              "    </tr>\n",
              "    <tr>\n",
              "      <th>Philippines</th>\n",
              "      <td>0.100000</td>\n",
              "    </tr>\n",
              "    <tr>\n",
              "      <th>Portugal</th>\n",
              "      <td>2.600000</td>\n",
              "    </tr>\n",
              "    <tr>\n",
              "      <th>Republic of Ireland</th>\n",
              "      <td>0.500000</td>\n",
              "    </tr>\n",
              "    <tr>\n",
              "      <th>Russia</th>\n",
              "      <td>NaN</td>\n",
              "    </tr>\n",
              "    <tr>\n",
              "      <th>Scotland</th>\n",
              "      <td>2.200000</td>\n",
              "    </tr>\n",
              "    <tr>\n",
              "      <th>South Africa</th>\n",
              "      <td>0.700000</td>\n",
              "    </tr>\n",
              "    <tr>\n",
              "      <th>Spain</th>\n",
              "      <td>2.828571</td>\n",
              "    </tr>\n",
              "    <tr>\n",
              "      <th>Sweden</th>\n",
              "      <td>2.157143</td>\n",
              "    </tr>\n",
              "    <tr>\n",
              "      <th>Switzerland</th>\n",
              "      <td>0.466667</td>\n",
              "    </tr>\n",
              "    <tr>\n",
              "      <th>Thailand</th>\n",
              "      <td>0.300000</td>\n",
              "    </tr>\n",
              "    <tr>\n",
              "      <th>United States</th>\n",
              "      <td>3.880000</td>\n",
              "    </tr>\n",
              "    <tr>\n",
              "      <th>Vietnam</th>\n",
              "      <td>0.400000</td>\n",
              "    </tr>\n",
              "    <tr>\n",
              "      <th>Zambia</th>\n",
              "      <td>0.000000</td>\n",
              "    </tr>\n",
              "  </tbody>\n",
              "</table>\n",
              "</div><br><label><b>dtype:</b> float64</label>"
            ]
          },
          "metadata": {},
          "execution_count": 12
        }
      ]
    },
    {
      "cell_type": "code",
      "source": [
        "homes_teams_with_null_xg = home_xg_group[home_xg_group.isna()].index.tolist()\n",
        "homes_teams_with_null_xg"
      ],
      "metadata": {
        "colab": {
          "base_uri": "https://localhost:8080/"
        },
        "id": "JFrblxetkxF_",
        "outputId": "6eb618df-60e1-4ea6-9a7a-59e3cbb69761"
      },
      "execution_count": null,
      "outputs": [
        {
          "output_type": "execute_result",
          "data": {
            "text/plain": [
              "['Chinese Taipei',\n",
              " \"Côte d'Ivoire\",\n",
              " 'Ecuador',\n",
              " 'Equatorial Guinea',\n",
              " 'Ghana',\n",
              " 'Korea DPR',\n",
              " 'Mexico',\n",
              " 'Russia']"
            ]
          },
          "metadata": {},
          "execution_count": 851
        }
      ]
    },
    {
      "cell_type": "code",
      "source": [
        "home_xg_mean = matches['home_xg'].mean()\n",
        "matches.loc[matches['home_team'].isin(homes_teams_with_null_xg) & matches['home_xg'].isna(), 'home_xg'] = home_xg_mean"
      ],
      "metadata": {
        "id": "eR8Xivc-mEf3"
      },
      "execution_count": null,
      "outputs": []
    },
    {
      "cell_type": "code",
      "source": [
        "matches.isnull().sum()['home_xg']"
      ],
      "metadata": {
        "colab": {
          "base_uri": "https://localhost:8080/"
        },
        "id": "DPD9iZz7pEof",
        "outputId": "5134132d-8fe9-425b-bc16-93be54026695"
      },
      "execution_count": null,
      "outputs": [
        {
          "output_type": "execute_result",
          "data": {
            "text/plain": [
              "211"
            ]
          },
          "metadata": {},
          "execution_count": 853
        }
      ]
    },
    {
      "cell_type": "code",
      "source": [
        "matches.groupby('home_team')['home_xg'].mean()"
      ],
      "metadata": {
        "colab": {
          "base_uri": "https://localhost:8080/",
          "height": 1000
        },
        "id": "CctbPIGEmqsF",
        "outputId": "5fa5431c-ec4d-406c-9695-60c260d6e300"
      },
      "execution_count": null,
      "outputs": [
        {
          "output_type": "execute_result",
          "data": {
            "text/plain": [
              "home_team\n",
              "Argentina              0.433333\n",
              "Australia              1.600000\n",
              "Brazil                 4.000000\n",
              "Cameroon               3.100000\n",
              "Canada                 1.975000\n",
              "Chile                  0.200000\n",
              "China PR               0.866667\n",
              "Chinese Taipei         1.669828\n",
              "Colombia               1.250000\n",
              "Costa Rica             2.100000\n",
              "Côte d'Ivoire          1.669828\n",
              "Denmark                1.100000\n",
              "Ecuador                1.669828\n",
              "England                1.800000\n",
              "Equatorial Guinea      1.669828\n",
              "France                 1.971429\n",
              "Germany                1.700000\n",
              "Ghana                  1.669828\n",
              "Haiti                  0.500000\n",
              "Italy                  1.025000\n",
              "Jamaica                0.466667\n",
              "Japan                  1.683333\n",
              "Korea DPR              1.669828\n",
              "Korea Republic         1.500000\n",
              "Mexico                 1.669828\n",
              "Morocco                1.200000\n",
              "Netherlands            1.633333\n",
              "New Zealand            1.433333\n",
              "Nigeria                0.533333\n",
              "Norway                 1.875000\n",
              "Panama                 1.000000\n",
              "Philippines            0.100000\n",
              "Portugal               2.600000\n",
              "Republic of Ireland    0.500000\n",
              "Russia                 1.669828\n",
              "Scotland               2.200000\n",
              "South Africa           0.700000\n",
              "Spain                  2.828571\n",
              "Sweden                 2.157143\n",
              "Switzerland            0.466667\n",
              "Thailand               0.300000\n",
              "United States          3.880000\n",
              "Vietnam                0.400000\n",
              "Zambia                 0.000000\n",
              "Name: home_xg, dtype: float64"
            ],
            "text/html": [
              "<div>\n",
              "<style scoped>\n",
              "    .dataframe tbody tr th:only-of-type {\n",
              "        vertical-align: middle;\n",
              "    }\n",
              "\n",
              "    .dataframe tbody tr th {\n",
              "        vertical-align: top;\n",
              "    }\n",
              "\n",
              "    .dataframe thead th {\n",
              "        text-align: right;\n",
              "    }\n",
              "</style>\n",
              "<table border=\"1\" class=\"dataframe\">\n",
              "  <thead>\n",
              "    <tr style=\"text-align: right;\">\n",
              "      <th></th>\n",
              "      <th>home_xg</th>\n",
              "    </tr>\n",
              "    <tr>\n",
              "      <th>home_team</th>\n",
              "      <th></th>\n",
              "    </tr>\n",
              "  </thead>\n",
              "  <tbody>\n",
              "    <tr>\n",
              "      <th>Argentina</th>\n",
              "      <td>0.433333</td>\n",
              "    </tr>\n",
              "    <tr>\n",
              "      <th>Australia</th>\n",
              "      <td>1.600000</td>\n",
              "    </tr>\n",
              "    <tr>\n",
              "      <th>Brazil</th>\n",
              "      <td>4.000000</td>\n",
              "    </tr>\n",
              "    <tr>\n",
              "      <th>Cameroon</th>\n",
              "      <td>3.100000</td>\n",
              "    </tr>\n",
              "    <tr>\n",
              "      <th>Canada</th>\n",
              "      <td>1.975000</td>\n",
              "    </tr>\n",
              "    <tr>\n",
              "      <th>Chile</th>\n",
              "      <td>0.200000</td>\n",
              "    </tr>\n",
              "    <tr>\n",
              "      <th>China PR</th>\n",
              "      <td>0.866667</td>\n",
              "    </tr>\n",
              "    <tr>\n",
              "      <th>Chinese Taipei</th>\n",
              "      <td>1.669828</td>\n",
              "    </tr>\n",
              "    <tr>\n",
              "      <th>Colombia</th>\n",
              "      <td>1.250000</td>\n",
              "    </tr>\n",
              "    <tr>\n",
              "      <th>Costa Rica</th>\n",
              "      <td>2.100000</td>\n",
              "    </tr>\n",
              "    <tr>\n",
              "      <th>Côte d'Ivoire</th>\n",
              "      <td>1.669828</td>\n",
              "    </tr>\n",
              "    <tr>\n",
              "      <th>Denmark</th>\n",
              "      <td>1.100000</td>\n",
              "    </tr>\n",
              "    <tr>\n",
              "      <th>Ecuador</th>\n",
              "      <td>1.669828</td>\n",
              "    </tr>\n",
              "    <tr>\n",
              "      <th>England</th>\n",
              "      <td>1.800000</td>\n",
              "    </tr>\n",
              "    <tr>\n",
              "      <th>Equatorial Guinea</th>\n",
              "      <td>1.669828</td>\n",
              "    </tr>\n",
              "    <tr>\n",
              "      <th>France</th>\n",
              "      <td>1.971429</td>\n",
              "    </tr>\n",
              "    <tr>\n",
              "      <th>Germany</th>\n",
              "      <td>1.700000</td>\n",
              "    </tr>\n",
              "    <tr>\n",
              "      <th>Ghana</th>\n",
              "      <td>1.669828</td>\n",
              "    </tr>\n",
              "    <tr>\n",
              "      <th>Haiti</th>\n",
              "      <td>0.500000</td>\n",
              "    </tr>\n",
              "    <tr>\n",
              "      <th>Italy</th>\n",
              "      <td>1.025000</td>\n",
              "    </tr>\n",
              "    <tr>\n",
              "      <th>Jamaica</th>\n",
              "      <td>0.466667</td>\n",
              "    </tr>\n",
              "    <tr>\n",
              "      <th>Japan</th>\n",
              "      <td>1.683333</td>\n",
              "    </tr>\n",
              "    <tr>\n",
              "      <th>Korea DPR</th>\n",
              "      <td>1.669828</td>\n",
              "    </tr>\n",
              "    <tr>\n",
              "      <th>Korea Republic</th>\n",
              "      <td>1.500000</td>\n",
              "    </tr>\n",
              "    <tr>\n",
              "      <th>Mexico</th>\n",
              "      <td>1.669828</td>\n",
              "    </tr>\n",
              "    <tr>\n",
              "      <th>Morocco</th>\n",
              "      <td>1.200000</td>\n",
              "    </tr>\n",
              "    <tr>\n",
              "      <th>Netherlands</th>\n",
              "      <td>1.633333</td>\n",
              "    </tr>\n",
              "    <tr>\n",
              "      <th>New Zealand</th>\n",
              "      <td>1.433333</td>\n",
              "    </tr>\n",
              "    <tr>\n",
              "      <th>Nigeria</th>\n",
              "      <td>0.533333</td>\n",
              "    </tr>\n",
              "    <tr>\n",
              "      <th>Norway</th>\n",
              "      <td>1.875000</td>\n",
              "    </tr>\n",
              "    <tr>\n",
              "      <th>Panama</th>\n",
              "      <td>1.000000</td>\n",
              "    </tr>\n",
              "    <tr>\n",
              "      <th>Philippines</th>\n",
              "      <td>0.100000</td>\n",
              "    </tr>\n",
              "    <tr>\n",
              "      <th>Portugal</th>\n",
              "      <td>2.600000</td>\n",
              "    </tr>\n",
              "    <tr>\n",
              "      <th>Republic of Ireland</th>\n",
              "      <td>0.500000</td>\n",
              "    </tr>\n",
              "    <tr>\n",
              "      <th>Russia</th>\n",
              "      <td>1.669828</td>\n",
              "    </tr>\n",
              "    <tr>\n",
              "      <th>Scotland</th>\n",
              "      <td>2.200000</td>\n",
              "    </tr>\n",
              "    <tr>\n",
              "      <th>South Africa</th>\n",
              "      <td>0.700000</td>\n",
              "    </tr>\n",
              "    <tr>\n",
              "      <th>Spain</th>\n",
              "      <td>2.828571</td>\n",
              "    </tr>\n",
              "    <tr>\n",
              "      <th>Sweden</th>\n",
              "      <td>2.157143</td>\n",
              "    </tr>\n",
              "    <tr>\n",
              "      <th>Switzerland</th>\n",
              "      <td>0.466667</td>\n",
              "    </tr>\n",
              "    <tr>\n",
              "      <th>Thailand</th>\n",
              "      <td>0.300000</td>\n",
              "    </tr>\n",
              "    <tr>\n",
              "      <th>United States</th>\n",
              "      <td>3.880000</td>\n",
              "    </tr>\n",
              "    <tr>\n",
              "      <th>Vietnam</th>\n",
              "      <td>0.400000</td>\n",
              "    </tr>\n",
              "    <tr>\n",
              "      <th>Zambia</th>\n",
              "      <td>0.000000</td>\n",
              "    </tr>\n",
              "  </tbody>\n",
              "</table>\n",
              "</div><br><label><b>dtype:</b> float64</label>"
            ]
          },
          "metadata": {},
          "execution_count": 854
        }
      ]
    },
    {
      "cell_type": "code",
      "source": [
        "homes_teams_with_mean_xg = home_xg_group[home_xg_group.notna()].index.tolist()"
      ],
      "metadata": {
        "id": "Rx05oWuSm4y8"
      },
      "execution_count": null,
      "outputs": []
    },
    {
      "cell_type": "code",
      "source": [
        "for home_team in homes_teams_with_mean_xg:\n",
        "  home_mean_xg = home_xg_group[home_team]\n",
        "  #print(home_team)\n",
        "  #print(home_mean_xg)\n",
        "  #print(matches[(matches['home_team'] == home_team)]['home_xg'])\n",
        "  matches.loc[(matches['home_team'] == home_team) & (matches['home_xg'].isna()), 'home_xg'] = home_mean_xg"
      ],
      "metadata": {
        "id": "E1oTfmuenQgV"
      },
      "execution_count": null,
      "outputs": []
    },
    {
      "cell_type": "code",
      "source": [
        "matches.isnull().sum()['home_xg']"
      ],
      "metadata": {
        "colab": {
          "base_uri": "https://localhost:8080/"
        },
        "id": "PU2PVpoaoVFm",
        "outputId": "9aff1af1-7916-4b3e-d809-81a8dfd9917f"
      },
      "execution_count": null,
      "outputs": [
        {
          "output_type": "execute_result",
          "data": {
            "text/plain": [
              "0"
            ]
          },
          "metadata": {},
          "execution_count": 857
        }
      ]
    },
    {
      "cell_type": "code",
      "source": [
        "matches['home_xg'] = matches['home_xg'].round(2)"
      ],
      "metadata": {
        "id": "TA_TNx7gbGYe"
      },
      "execution_count": null,
      "outputs": []
    },
    {
      "cell_type": "code",
      "source": [
        "matches.hist(column='home_xg')"
      ],
      "metadata": {
        "colab": {
          "base_uri": "https://localhost:8080/",
          "height": 470
        },
        "id": "d2mztQI9oh0-",
        "outputId": "26588dfa-d0fe-4ff5-efaa-e8e104fd6fe1"
      },
      "execution_count": null,
      "outputs": [
        {
          "output_type": "execute_result",
          "data": {
            "text/plain": [
              "array([[<Axes: title={'center': 'home_xg'}>]], dtype=object)"
            ]
          },
          "metadata": {},
          "execution_count": 859
        },
        {
          "output_type": "display_data",
          "data": {
            "text/plain": [
              "<Figure size 640x480 with 1 Axes>"
            ],
            "image/png": "[encoded data removed]"
          },
          "metadata": {}
        }
      ]
    },
    {
      "cell_type": "markdown",
      "source": [
        "## Filling the away_xg"
      ],
      "metadata": {
        "id": "PIq8Yr3f5u8a"
      }
    },
    {
      "cell_type": "code",
      "source": [
        "matches.isnull().sum()['away_xg']"
      ],
      "metadata": {
        "colab": {
          "base_uri": "https://localhost:8080/"
        },
        "id": "ypTg1QRI50Gn",
        "outputId": "479d7c1c-f72b-4e2d-af27-539988b0e3ec"
      },
      "execution_count": null,
      "outputs": [
        {
          "output_type": "execute_result",
          "data": {
            "text/plain": [
              "232"
            ]
          },
          "metadata": {},
          "execution_count": 860
        }
      ]
    },
    {
      "cell_type": "code",
      "source": [
        "matches.hist(column='away_xg')"
      ],
      "metadata": {
        "colab": {
          "base_uri": "https://localhost:8080/",
          "height": 470
        },
        "id": "xVQGi4lv4hO_",
        "outputId": "a3f36c38-7f7d-4a85-cc16-bc041b498bbb"
      },
      "execution_count": null,
      "outputs": [
        {
          "output_type": "execute_result",
          "data": {
            "text/plain": [
              "array([[<Axes: title={'center': 'away_xg'}>]], dtype=object)"
            ]
          },
          "metadata": {},
          "execution_count": 861
        },
        {
          "output_type": "display_data",
          "data": {
            "text/plain": [
              "<Figure size 640x480 with 1 Axes>"
            ],
            "image/png": "[encoded data removed]"
          },
          "metadata": {}
        }
      ]
    },
    {
      "cell_type": "code",
      "source": [
        "away_xg_group = matches.groupby('away_team')['away_xg'].mean()\n",
        "away_xg_group"
      ],
      "metadata": {
        "colab": {
          "base_uri": "https://localhost:8080/",
          "height": 1000
        },
        "collapsed": true,
        "id": "Uq2KW8dM5GuO",
        "outputId": "fe3d8e9f-c18e-4608-8a19-ba13f6ab3f2d"
      },
      "execution_count": null,
      "outputs": [
        {
          "output_type": "execute_result",
          "data": {
            "text/plain": [
              "away_team\n",
              "Argentina              0.666667\n",
              "Australia              1.800000\n",
              "Brazil                 1.500000\n",
              "Cameroon               0.700000\n",
              "Canada                 1.300000\n",
              "Chile                  1.350000\n",
              "China PR               0.800000\n",
              "Chinese Taipei              NaN\n",
              "Colombia               0.500000\n",
              "Costa Rica             0.150000\n",
              "Côte d'Ivoire               NaN\n",
              "Denmark                1.033333\n",
              "Ecuador                     NaN\n",
              "England                1.900000\n",
              "Equatorial Guinea           NaN\n",
              "France                 3.033333\n",
              "Germany                3.450000\n",
              "Ghana                       NaN\n",
              "Haiti                  0.750000\n",
              "Italy                  2.000000\n",
              "Jamaica                0.875000\n",
              "Japan                  2.700000\n",
              "Korea DPR                   NaN\n",
              "Korea Republic         0.566667\n",
              "Mexico                      NaN\n",
              "Morocco                0.533333\n",
              "Netherlands            1.700000\n",
              "New Zealand            0.400000\n",
              "Nigeria                0.980000\n",
              "Norway                 1.180000\n",
              "Panama                 0.200000\n",
              "Philippines            0.250000\n",
              "Portugal               0.100000\n",
              "Republic of Ireland    1.050000\n",
              "Russia                      NaN\n",
              "Scotland               0.900000\n",
              "South Africa           1.250000\n",
              "Spain                  1.700000\n",
              "Sweden                 1.600000\n",
              "Switzerland            3.100000\n",
              "Thailand               0.350000\n",
              "United States          1.650000\n",
              "Vietnam                0.100000\n",
              "Zambia                 1.400000\n",
              "Name: away_xg, dtype: float64"
            ],
            "text/html": [
              "<div>\n",
              "<style scoped>\n",
              "    .dataframe tbody tr th:only-of-type {\n",
              "        vertical-align: middle;\n",
              "    }\n",
              "\n",
              "    .dataframe tbody tr th {\n",
              "        vertical-align: top;\n",
              "    }\n",
              "\n",
              "    .dataframe thead th {\n",
              "        text-align: right;\n",
              "    }\n",
              "</style>\n",
              "<table border=\"1\" class=\"dataframe\">\n",
              "  <thead>\n",
              "    <tr style=\"text-align: right;\">\n",
              "      <th></th>\n",
              "      <th>away_xg</th>\n",
              "    </tr>\n",
              "    <tr>\n",
              "      <th>away_team</th>\n",
              "      <th></th>\n",
              "    </tr>\n",
              "  </thead>\n",
              "  <tbody>\n",
              "    <tr>\n",
              "      <th>Argentina</th>\n",
              "      <td>0.666667</td>\n",
              "    </tr>\n",
              "    <tr>\n",
              "      <th>Australia</th>\n",
              "      <td>1.800000</td>\n",
              "    </tr>\n",
              "    <tr>\n",
              "      <th>Brazil</th>\n",
              "      <td>1.500000</td>\n",
              "    </tr>\n",
              "    <tr>\n",
              "      <th>Cameroon</th>\n",
              "      <td>0.700000</td>\n",
              "    </tr>\n",
              "    <tr>\n",
              "      <th>Canada</th>\n",
              "      <td>1.300000</td>\n",
              "    </tr>\n",
              "    <tr>\n",
              "      <th>Chile</th>\n",
              "      <td>1.350000</td>\n",
              "    </tr>\n",
              "    <tr>\n",
              "      <th>China PR</th>\n",
              "      <td>0.800000</td>\n",
              "    </tr>\n",
              "    <tr>\n",
              "      <th>Chinese Taipei</th>\n",
              "      <td>NaN</td>\n",
              "    </tr>\n",
              "    <tr>\n",
              "      <th>Colombia</th>\n",
              "      <td>0.500000</td>\n",
              "    </tr>\n",
              "    <tr>\n",
              "      <th>Costa Rica</th>\n",
              "      <td>0.150000</td>\n",
              "    </tr>\n",
              "    <tr>\n",
              "      <th>Côte d'Ivoire</th>\n",
              "      <td>NaN</td>\n",
              "    </tr>\n",
              "    <tr>\n",
              "      <th>Denmark</th>\n",
              "      <td>1.033333</td>\n",
              "    </tr>\n",
              "    <tr>\n",
              "      <th>Ecuador</th>\n",
              "      <td>NaN</td>\n",
              "    </tr>\n",
              "    <tr>\n",
              "      <th>England</th>\n",
              "      <td>1.900000</td>\n",
              "    </tr>\n",
              "    <tr>\n",
              "      <th>Equatorial Guinea</th>\n",
              "      <td>NaN</td>\n",
              "    </tr>\n",
              "    <tr>\n",
              "      <th>France</th>\n",
              "      <td>3.033333</td>\n",
              "    </tr>\n",
              "    <tr>\n",
              "      <th>Germany</th>\n",
              "      <td>3.450000</td>\n",
              "    </tr>\n",
              "    <tr>\n",
              "      <th>Ghana</th>\n",
              "      <td>NaN</td>\n",
              "    </tr>\n",
              "    <tr>\n",
              "      <th>Haiti</th>\n",
              "      <td>0.750000</td>\n",
              "    </tr>\n",
              "    <tr>\n",
              "      <th>Italy</th>\n",
              "      <td>2.000000</td>\n",
              "    </tr>\n",
              "    <tr>\n",
              "      <th>Jamaica</th>\n",
              "      <td>0.875000</td>\n",
              "    </tr>\n",
              "    <tr>\n",
              "      <th>Japan</th>\n",
              "      <td>2.700000</td>\n",
              "    </tr>\n",
              "    <tr>\n",
              "      <th>Korea DPR</th>\n",
              "      <td>NaN</td>\n",
              "    </tr>\n",
              "    <tr>\n",
              "      <th>Korea Republic</th>\n",
              "      <td>0.566667</td>\n",
              "    </tr>\n",
              "    <tr>\n",
              "      <th>Mexico</th>\n",
              "      <td>NaN</td>\n",
              "    </tr>\n",
              "    <tr>\n",
              "      <th>Morocco</th>\n",
              "      <td>0.533333</td>\n",
              "    </tr>\n",
              "    <tr>\n",
              "      <th>Netherlands</th>\n",
              "      <td>1.700000</td>\n",
              "    </tr>\n",
              "    <tr>\n",
              "      <th>New Zealand</th>\n",
              "      <td>0.400000</td>\n",
              "    </tr>\n",
              "    <tr>\n",
              "      <th>Nigeria</th>\n",
              "      <td>0.980000</td>\n",
              "    </tr>\n",
              "    <tr>\n",
              "      <th>Norway</th>\n",
              "      <td>1.180000</td>\n",
              "    </tr>\n",
              "    <tr>\n",
              "      <th>Panama</th>\n",
              "      <td>0.200000</td>\n",
              "    </tr>\n",
              "    <tr>\n",
              "      <th>Philippines</th>\n",
              "      <td>0.250000</td>\n",
              "    </tr>\n",
              "    <tr>\n",
              "      <th>Portugal</th>\n",
              "      <td>0.100000</td>\n",
              "    </tr>\n",
              "    <tr>\n",
              "      <th>Republic of Ireland</th>\n",
              "      <td>1.050000</td>\n",
              "    </tr>\n",
              "    <tr>\n",
              "      <th>Russia</th>\n",
              "      <td>NaN</td>\n",
              "    </tr>\n",
              "    <tr>\n",
              "      <th>Scotland</th>\n",
              "      <td>0.900000</td>\n",
              "    </tr>\n",
              "    <tr>\n",
              "      <th>South Africa</th>\n",
              "      <td>1.250000</td>\n",
              "    </tr>\n",
              "    <tr>\n",
              "      <th>Spain</th>\n",
              "      <td>1.700000</td>\n",
              "    </tr>\n",
              "    <tr>\n",
              "      <th>Sweden</th>\n",
              "      <td>1.600000</td>\n",
              "    </tr>\n",
              "    <tr>\n",
              "      <th>Switzerland</th>\n",
              "      <td>3.100000</td>\n",
              "    </tr>\n",
              "    <tr>\n",
              "      <th>Thailand</th>\n",
              "      <td>0.350000</td>\n",
              "    </tr>\n",
              "    <tr>\n",
              "      <th>United States</th>\n",
              "      <td>1.650000</td>\n",
              "    </tr>\n",
              "    <tr>\n",
              "      <th>Vietnam</th>\n",
              "      <td>0.100000</td>\n",
              "    </tr>\n",
              "    <tr>\n",
              "      <th>Zambia</th>\n",
              "      <td>1.400000</td>\n",
              "    </tr>\n",
              "  </tbody>\n",
              "</table>\n",
              "</div><br><label><b>dtype:</b> float64</label>"
            ]
          },
          "metadata": {},
          "execution_count": 862
        }
      ]
    },
    {
      "cell_type": "code",
      "source": [
        "away_teams_with_null_xg = away_xg_group[away_xg_group.isna()].index.tolist()\n",
        "away_teams_with_null_xg"
      ],
      "metadata": {
        "colab": {
          "base_uri": "https://localhost:8080/"
        },
        "id": "i03-7gsQ5MIS",
        "outputId": "4f2d0362-9ab2-4421-fa2a-c5bb427371df"
      },
      "execution_count": null,
      "outputs": [
        {
          "output_type": "execute_result",
          "data": {
            "text/plain": [
              "['Chinese Taipei',\n",
              " \"Côte d'Ivoire\",\n",
              " 'Ecuador',\n",
              " 'Equatorial Guinea',\n",
              " 'Ghana',\n",
              " 'Korea DPR',\n",
              " 'Mexico',\n",
              " 'Russia']"
            ]
          },
          "metadata": {},
          "execution_count": 863
        }
      ]
    },
    {
      "cell_type": "code",
      "source": [
        "away_xg_mean = matches['away_xg'].mean()\n",
        "matches.loc[matches['away_team'].isin(away_teams_with_null_xg) & matches['away_xg'].isna(), 'away_xg'] = away_xg_mean"
      ],
      "metadata": {
        "id": "5ojqU7jc5W1j"
      },
      "execution_count": null,
      "outputs": []
    },
    {
      "cell_type": "code",
      "source": [
        "matches.isnull().sum()['away_xg']"
      ],
      "metadata": {
        "colab": {
          "base_uri": "https://localhost:8080/"
        },
        "id": "A-1agaek5l4m",
        "outputId": "61940c16-2a1d-49f0-f14c-738daf6604b9"
      },
      "execution_count": null,
      "outputs": [
        {
          "output_type": "execute_result",
          "data": {
            "text/plain": [
              "201"
            ]
          },
          "metadata": {},
          "execution_count": 865
        }
      ]
    },
    {
      "cell_type": "code",
      "source": [
        "away_teams_with_mean_xg = away_xg_group[away_xg_group.notna()].index.tolist()"
      ],
      "metadata": {
        "id": "ek4D4Qgf5sRu"
      },
      "execution_count": null,
      "outputs": []
    },
    {
      "cell_type": "code",
      "source": [
        "for away_team in away_teams_with_mean_xg:\n",
        "  away_mean_xg = away_xg_group[away_team]\n",
        "  matches.loc[(matches['away_team'] == away_team) & (matches['away_xg'].isna()), 'away_xg'] = away_mean_xg"
      ],
      "metadata": {
        "id": "0umhNQeQ9tCR"
      },
      "execution_count": null,
      "outputs": []
    },
    {
      "cell_type": "code",
      "source": [
        "matches['away_xg'] = matches['away_xg'].round(2)"
      ],
      "metadata": {
        "id": "HfJC2yo2bM6o"
      },
      "execution_count": null,
      "outputs": []
    },
    {
      "cell_type": "code",
      "source": [
        "matches.isnull().sum()['away_xg']"
      ],
      "metadata": {
        "colab": {
          "base_uri": "https://localhost:8080/"
        },
        "id": "aMpg0-Pp98q8",
        "outputId": "aff6f711-82d0-4f4c-9856-60e4c6cb58f7"
      },
      "execution_count": null,
      "outputs": [
        {
          "output_type": "execute_result",
          "data": {
            "text/plain": [
              "0"
            ]
          },
          "metadata": {},
          "execution_count": 869
        }
      ]
    },
    {
      "cell_type": "code",
      "source": [
        "matches.hist(column='away_xg')"
      ],
      "metadata": {
        "colab": {
          "base_uri": "https://localhost:8080/",
          "height": 470
        },
        "id": "OHFB-oR7994s",
        "outputId": "51b29829-4dbb-4028-adc1-8cbac2aee184"
      },
      "execution_count": null,
      "outputs": [
        {
          "output_type": "execute_result",
          "data": {
            "text/plain": [
              "array([[<Axes: title={'center': 'away_xg'}>]], dtype=object)"
            ]
          },
          "metadata": {},
          "execution_count": 870
        },
        {
          "output_type": "display_data",
          "data": {
            "text/plain": [
              "<Figure size 640x480 with 1 Axes>"
            ],
            "image/png": "[encoded data removed]"
          },
          "metadata": {}
        }
      ]
    },
    {
      "cell_type": "markdown",
      "source": [
        "#Changing the home, and away penalty nulls to 0 values"
      ],
      "metadata": {
        "id": "vxgHI-j8-PqA"
      }
    },
    {
      "cell_type": "code",
      "source": [
        "matches['home_penalty'].isnull().sum()"
      ],
      "metadata": {
        "colab": {
          "base_uri": "https://localhost:8080/"
        },
        "id": "aHWTamwA-OwD",
        "outputId": "1ca696e7-53fd-4e03-eed5-66f46d32af49"
      },
      "execution_count": null,
      "outputs": [
        {
          "output_type": "execute_result",
          "data": {
            "text/plain": [
              "337"
            ]
          },
          "metadata": {},
          "execution_count": 871
        }
      ]
    },
    {
      "cell_type": "code",
      "source": [
        "matches.loc[matches['home_penalty'].isna(), 'home_penalty'] = 0"
      ],
      "metadata": {
        "id": "a48i9g4u-lFb"
      },
      "execution_count": null,
      "outputs": []
    },
    {
      "cell_type": "code",
      "source": [
        "matches['home_penalty'].isnull().sum()"
      ],
      "metadata": {
        "colab": {
          "base_uri": "https://localhost:8080/"
        },
        "id": "ZFDLYIum-37M",
        "outputId": "8a25cb23-2e26-43b0-fa3b-13566b586fc4"
      },
      "execution_count": null,
      "outputs": [
        {
          "output_type": "execute_result",
          "data": {
            "text/plain": [
              "0"
            ]
          },
          "metadata": {},
          "execution_count": 873
        }
      ]
    },
    {
      "cell_type": "code",
      "source": [
        "matches['away_penalty'].isnull().sum()"
      ],
      "metadata": {
        "colab": {
          "base_uri": "https://localhost:8080/"
        },
        "id": "hobaVE2U_C1L",
        "outputId": "87a21127-8d00-4d14-aa22-124ad03a8b3b"
      },
      "execution_count": null,
      "outputs": [
        {
          "output_type": "execute_result",
          "data": {
            "text/plain": [
              "337"
            ]
          },
          "metadata": {},
          "execution_count": 874
        }
      ]
    },
    {
      "cell_type": "code",
      "source": [
        "matches.loc[matches['away_penalty'].isna(), 'away_penalty'] = 0"
      ],
      "metadata": {
        "id": "zkfwscQk_EkQ"
      },
      "execution_count": null,
      "outputs": []
    },
    {
      "cell_type": "code",
      "source": [
        "matches['away_penalty'].isnull().sum()"
      ],
      "metadata": {
        "colab": {
          "base_uri": "https://localhost:8080/"
        },
        "id": "Swp966UB_Iv4",
        "outputId": "3b9ab11b-65fa-472c-9dac-5b108178a336"
      },
      "execution_count": null,
      "outputs": [
        {
          "output_type": "execute_result",
          "data": {
            "text/plain": [
              "0"
            ]
          },
          "metadata": {},
          "execution_count": 876
        }
      ]
    },
    {
      "cell_type": "markdown",
      "source": [
        "# Removing the manager and captain values, as the don't add any value"
      ],
      "metadata": {
        "id": "GpD6xc4r_MEo"
      }
    },
    {
      "cell_type": "code",
      "source": [
        "matches.drop(columns=['home_manager', 'away_manager', 'home_captain', 'away_captain', 'Venue', 'Officials',\n",
        "'Score', 'Referee', 'Host',], inplace=True)"
      ],
      "metadata": {
        "id": "TWQiooYr_OJQ"
      },
      "execution_count": null,
      "outputs": []
    },
    {
      "cell_type": "markdown",
      "source": [
        "# Calculate the total of yellow and red cards based on the yellow_card_long and red_card_long values"
      ],
      "metadata": {
        "id": "yJsY-jpJAr0C"
      }
    },
    {
      "cell_type": "code",
      "source": [
        "def count_total_split_with_comma(entry):\n",
        "    total = 0\n",
        "    if entry == '[]' or entry == 'nan':\n",
        "        return total\n",
        "    else:\n",
        "        total = 1\n",
        "        # Split by ',', and count each entry (this assumes 1 yellow card per entry)\n",
        "        more_than_one_entry = len(entry.split(','))\n",
        "        if(more_than_one_entry > total):\n",
        "          total = more_than_one_entry\n",
        "    return total"
      ],
      "metadata": {
        "id": "aiz2TO6dMZti"
      },
      "execution_count": null,
      "outputs": []
    },
    {
      "cell_type": "markdown",
      "source": [
        "## away_yellow_card_long"
      ],
      "metadata": {
        "id": "_-dN-Af0PGHm"
      }
    },
    {
      "cell_type": "code",
      "source": [
        "matches['away_yellow_card_long'] = matches['away_yellow_card_long'].astype(str)"
      ],
      "metadata": {
        "id": "zNvVRBY5M19A"
      },
      "execution_count": null,
      "outputs": []
    },
    {
      "cell_type": "code",
      "source": [
        "matches['away_yellow_card_count'] = matches['away_yellow_card_long'].apply(count_total_split_with_comma)"
      ],
      "metadata": {
        "id": "LFPwl2GgOcCZ"
      },
      "execution_count": null,
      "outputs": []
    },
    {
      "cell_type": "code",
      "source": [
        "print(matches[['away_yellow_card_long', 'away_yellow_card_count']])"
      ],
      "metadata": {
        "colab": {
          "base_uri": "https://localhost:8080/"
        },
        "id": "Oi-4_oxZOi3W",
        "outputId": "8e601e6c-14bf-4989-988f-8d2f312637d6"
      },
      "execution_count": null,
      "outputs": [
        {
          "output_type": "stream",
          "name": "stdout",
          "text": [
            "                                 away_yellow_card_long  away_yellow_card_count\n",
            "0                              ['55’|1:0|Lauren Hemp']                       1\n",
            "1                          ['45+1’|1:0|Katrina Gorry']                       1\n",
            "2    ['10’|0:0|Alex Greenwood', '90+5’|1:3|Chloe Ke...                       2\n",
            "3                                                  nan                       0\n",
            "4                                                  nan                       0\n",
            "..                                                 ...                     ...\n",
            "343  ['58’|0:1|Maria Lucia Lima', '67’|0:1|Elane Re...                       3\n",
            "344                         ['59’|0:4|Silvia Fiorini']                       1\n",
            "345                               ['24’|0:0|Mia Hamm']                       1\n",
            "346                                                nan                       0\n",
            "347                                                nan                       0\n",
            "\n",
            "[348 rows x 2 columns]\n"
          ]
        }
      ]
    },
    {
      "cell_type": "code",
      "source": [
        "matches.drop(columns=['away_yellow_card_long'], inplace=True)"
      ],
      "metadata": {
        "id": "fSIVtb9pQehK"
      },
      "execution_count": null,
      "outputs": []
    },
    {
      "cell_type": "markdown",
      "source": [
        "## home_yellow_card_long"
      ],
      "metadata": {
        "id": "5vpYngNYPMmU"
      }
    },
    {
      "cell_type": "code",
      "source": [
        "matches['home_yellow_card_long'] = matches['home_yellow_card_long'].astype(str)"
      ],
      "metadata": {
        "id": "6pLP0pd-PBZ2"
      },
      "execution_count": null,
      "outputs": []
    },
    {
      "cell_type": "code",
      "source": [
        "matches['home_yellow_card_count'] = matches['home_yellow_card_long'].apply(count_total_split_with_comma)"
      ],
      "metadata": {
        "id": "1VWcR7AUPeET"
      },
      "execution_count": null,
      "outputs": []
    },
    {
      "cell_type": "code",
      "source": [
        "print(matches[['home_yellow_card_long', 'home_yellow_card_count']])"
      ],
      "metadata": {
        "colab": {
          "base_uri": "https://localhost:8080/"
        },
        "id": "5WX5sgGfPmIl",
        "outputId": "d4622d0b-9230-4145-b100-b8ea53702d91"
      },
      "execution_count": null,
      "outputs": [
        {
          "output_type": "stream",
          "name": "stdout",
          "text": [
            "                                 home_yellow_card_long  home_yellow_card_count\n",
            "0                         ['78’|1:0|Salma Paralluelo']                       1\n",
            "1    ['88’|2:0|Elin Rubensson', '90+5’|2:0|Lina Hur...                       2\n",
            "2                                                  nan                       0\n",
            "3                                                  nan                       0\n",
            "4                            ['92’|0:0|Katrina Gorry']                       1\n",
            "..                                                 ...                     ...\n",
            "343                                                nan                       0\n",
            "344                                                nan                       0\n",
            "345                        ['64’|0:3|Helen Johansson']                       1\n",
            "346                                                nan                       0\n",
            "347                                                nan                       0\n",
            "\n",
            "[348 rows x 2 columns]\n"
          ]
        }
      ]
    },
    {
      "cell_type": "code",
      "source": [
        "matches.drop(columns=['home_yellow_card_long'], inplace=True)"
      ],
      "metadata": {
        "id": "Qfy-kGCzQmuV"
      },
      "execution_count": null,
      "outputs": []
    },
    {
      "cell_type": "markdown",
      "source": [
        "## home_red_card"
      ],
      "metadata": {
        "id": "xAGKE9XeQspg"
      }
    },
    {
      "cell_type": "code",
      "source": [
        "matches['home_red_card'] = matches['home_red_card'].astype(str)"
      ],
      "metadata": {
        "id": "KKqCKuytQvbg"
      },
      "execution_count": null,
      "outputs": []
    },
    {
      "cell_type": "code",
      "source": [
        "matches['home_red_card_count'] = matches['home_red_card'].apply(count_total_split_with_comma)"
      ],
      "metadata": {
        "id": "vzXMn59DQ2oh"
      },
      "execution_count": null,
      "outputs": []
    },
    {
      "cell_type": "code",
      "source": [
        "matches['home_red_card_count'].unique()"
      ],
      "metadata": {
        "colab": {
          "base_uri": "https://localhost:8080/"
        },
        "id": "-de6y0Z9Q_uQ",
        "outputId": "5e596af2-6433-467e-b4aa-e5ab8cc6b6cb"
      },
      "execution_count": null,
      "outputs": [
        {
          "output_type": "execute_result",
          "data": {
            "text/plain": [
              "array([0, 1])"
            ]
          },
          "metadata": {},
          "execution_count": 889
        }
      ]
    },
    {
      "cell_type": "code",
      "source": [
        "matches.drop(columns=['home_red_card'], inplace=True)"
      ],
      "metadata": {
        "id": "DH2kEB-tRJdB"
      },
      "execution_count": null,
      "outputs": []
    },
    {
      "cell_type": "markdown",
      "source": [
        "## away_red_card"
      ],
      "metadata": {
        "id": "Dep826PdRNdg"
      }
    },
    {
      "cell_type": "code",
      "source": [
        "matches['away_red_card'] = matches['away_red_card'].astype(str)\n",
        "matches['away_red_card_count'] = matches['away_red_card'].apply(count_total_split_with_comma)\n",
        "matches['away_red_card_count'].unique()"
      ],
      "metadata": {
        "colab": {
          "base_uri": "https://localhost:8080/"
        },
        "id": "z_rIJ7S1RPyo",
        "outputId": "4ff5e6c0-1e7e-4af1-e721-1c976fdefd42"
      },
      "execution_count": null,
      "outputs": [
        {
          "output_type": "execute_result",
          "data": {
            "text/plain": [
              "array([0, 1])"
            ]
          },
          "metadata": {},
          "execution_count": 891
        }
      ]
    },
    {
      "cell_type": "code",
      "source": [
        "matches.drop(columns=['away_red_card'], inplace=True)"
      ],
      "metadata": {
        "id": "UnOLrs4aRauS"
      },
      "execution_count": null,
      "outputs": []
    },
    {
      "cell_type": "code",
      "source": [
        "matches.drop(columns=['home_yellow_red_card','away_yellow_red_card'], inplace=True)"
      ],
      "metadata": {
        "id": "6kmFwB2iR-Q-"
      },
      "execution_count": null,
      "outputs": []
    },
    {
      "cell_type": "markdown",
      "source": [
        "# Given the notes, create a new 0/1 value whether there were penalty kicks in the end of the match"
      ],
      "metadata": {
        "id": "XwvRn5yNT3rG"
      }
    },
    {
      "cell_type": "code",
      "source": [
        "def check_penalty_kick(entry):\n",
        "    if 'penalty kicks' in entry:\n",
        "        return True\n",
        "    else:\n",
        "        return False"
      ],
      "metadata": {
        "id": "TaM43IKHRiD7"
      },
      "execution_count": null,
      "outputs": []
    },
    {
      "cell_type": "code",
      "source": [
        "matches['Notes'] = matches['Notes'].astype(str)"
      ],
      "metadata": {
        "id": "_xLVBdpGTgUk"
      },
      "execution_count": null,
      "outputs": []
    },
    {
      "cell_type": "code",
      "source": [
        "matches['penalty_kicks'] = matches['Notes'].apply(check_penalty_kick)"
      ],
      "metadata": {
        "id": "WLhKusUyUQuE"
      },
      "execution_count": null,
      "outputs": []
    },
    {
      "cell_type": "code",
      "source": [
        "matches['penalty_kicks'].unique()"
      ],
      "metadata": {
        "colab": {
          "base_uri": "https://localhost:8080/"
        },
        "id": "j1YcGu4yUnY2",
        "outputId": "7eff679d-fa55-493f-b041-764c85f6a09b"
      },
      "execution_count": null,
      "outputs": [
        {
          "output_type": "execute_result",
          "data": {
            "text/plain": [
              "array([False,  True])"
            ]
          },
          "metadata": {},
          "execution_count": 897
        }
      ]
    },
    {
      "cell_type": "code",
      "source": [
        "matches.drop(columns=['Notes'], inplace=True)"
      ],
      "metadata": {
        "id": "6t_R7lUfUsIz"
      },
      "execution_count": null,
      "outputs": []
    },
    {
      "cell_type": "markdown",
      "source": [
        "# Check the rest of the columns that miss values"
      ],
      "metadata": {
        "id": "CLMfoi61UzHr"
      }
    },
    {
      "cell_type": "code",
      "source": [
        "matches.columns"
      ],
      "metadata": {
        "colab": {
          "base_uri": "https://localhost:8080/"
        },
        "id": "ESMHBTiWUzW8",
        "outputId": "b243dc29-8222-4f76-d6aa-9b950930fbfb"
      },
      "execution_count": null,
      "outputs": [
        {
          "output_type": "execute_result",
          "data": {
            "text/plain": [
              "Index(['home_team', 'away_team', 'home_score', 'home_xg', 'home_penalty',\n",
              "       'away_score', 'away_xg', 'away_penalty', 'Attendance', 'Round', 'Date',\n",
              "       'Year', 'home_goal', 'away_goal', 'home_goal_long', 'away_goal_long',\n",
              "       'home_own_goal', 'away_own_goal', 'home_penalty_goal',\n",
              "       'away_penalty_goal', 'home_penalty_miss_long', 'away_penalty_miss_long',\n",
              "       'home_penalty_shootout_goal_long', 'away_penalty_shootout_goal_long',\n",
              "       'home_penalty_shootout_miss_long', 'away_penalty_shootout_miss_long',\n",
              "       'home_substitute_in_long', 'away_substitute_in_long',\n",
              "       'away_yellow_card_count', 'home_yellow_card_count',\n",
              "       'home_red_card_count', 'away_red_card_count', 'penalty_kicks'],\n",
              "      dtype='object')"
            ]
          },
          "metadata": {},
          "execution_count": 899
        }
      ]
    },
    {
      "cell_type": "code",
      "source": [
        "matches['Round'].unique()"
      ],
      "metadata": {
        "colab": {
          "base_uri": "https://localhost:8080/"
        },
        "id": "yW5d_wKjVKeE",
        "outputId": "817367f3-adc0-4103-b079-2e025d697ca0"
      },
      "execution_count": null,
      "outputs": [
        {
          "output_type": "execute_result",
          "data": {
            "text/plain": [
              "array(['Final', 'Third-place match', 'Semi-finals', 'Quarter-finals',\n",
              "       'Round of 16', 'Group stage'], dtype=object)"
            ]
          },
          "metadata": {},
          "execution_count": 900
        }
      ]
    },
    {
      "cell_type": "code",
      "source": [
        "matches.isnull().any()"
      ],
      "metadata": {
        "colab": {
          "base_uri": "https://localhost:8080/",
          "height": 1000
        },
        "id": "V8zM5QkDWRPn",
        "outputId": "df04c085-c3e4-431c-94ed-b98a197dd2c5"
      },
      "execution_count": null,
      "outputs": [
        {
          "output_type": "execute_result",
          "data": {
            "text/plain": [
              "home_team                          False\n",
              "away_team                          False\n",
              "home_score                         False\n",
              "home_xg                            False\n",
              "home_penalty                       False\n",
              "away_score                         False\n",
              "away_xg                            False\n",
              "away_penalty                       False\n",
              "Attendance                         False\n",
              "Round                              False\n",
              "Date                               False\n",
              "Year                               False\n",
              "home_goal                           True\n",
              "away_goal                           True\n",
              "home_goal_long                      True\n",
              "away_goal_long                      True\n",
              "home_own_goal                       True\n",
              "away_own_goal                       True\n",
              "home_penalty_goal                   True\n",
              "away_penalty_goal                   True\n",
              "home_penalty_miss_long              True\n",
              "away_penalty_miss_long              True\n",
              "home_penalty_shootout_goal_long     True\n",
              "away_penalty_shootout_goal_long     True\n",
              "home_penalty_shootout_miss_long     True\n",
              "away_penalty_shootout_miss_long     True\n",
              "home_substitute_in_long             True\n",
              "away_substitute_in_long             True\n",
              "away_yellow_card_count             False\n",
              "home_yellow_card_count             False\n",
              "home_red_card_count                False\n",
              "away_red_card_count                False\n",
              "penalty_kicks                      False\n",
              "dtype: bool"
            ],
            "text/html": [
              "<div>\n",
              "<style scoped>\n",
              "    .dataframe tbody tr th:only-of-type {\n",
              "        vertical-align: middle;\n",
              "    }\n",
              "\n",
              "    .dataframe tbody tr th {\n",
              "        vertical-align: top;\n",
              "    }\n",
              "\n",
              "    .dataframe thead th {\n",
              "        text-align: right;\n",
              "    }\n",
              "</style>\n",
              "<table border=\"1\" class=\"dataframe\">\n",
              "  <thead>\n",
              "    <tr style=\"text-align: right;\">\n",
              "      <th></th>\n",
              "      <th>0</th>\n",
              "    </tr>\n",
              "  </thead>\n",
              "  <tbody>\n",
              "    <tr>\n",
              "      <th>home_team</th>\n",
              "      <td>False</td>\n",
              "    </tr>\n",
              "    <tr>\n",
              "      <th>away_team</th>\n",
              "      <td>False</td>\n",
              "    </tr>\n",
              "    <tr>\n",
              "      <th>home_score</th>\n",
              "      <td>False</td>\n",
              "    </tr>\n",
              "    <tr>\n",
              "      <th>home_xg</th>\n",
              "      <td>False</td>\n",
              "    </tr>\n",
              "    <tr>\n",
              "      <th>home_penalty</th>\n",
              "      <td>False</td>\n",
              "    </tr>\n",
              "    <tr>\n",
              "      <th>away_score</th>\n",
              "      <td>False</td>\n",
              "    </tr>\n",
              "    <tr>\n",
              "      <th>away_xg</th>\n",
              "      <td>False</td>\n",
              "    </tr>\n",
              "    <tr>\n",
              "      <th>away_penalty</th>\n",
              "      <td>False</td>\n",
              "    </tr>\n",
              "    <tr>\n",
              "      <th>Attendance</th>\n",
              "      <td>False</td>\n",
              "    </tr>\n",
              "    <tr>\n",
              "      <th>Round</th>\n",
              "      <td>False</td>\n",
              "    </tr>\n",
              "    <tr>\n",
              "      <th>Date</th>\n",
              "      <td>False</td>\n",
              "    </tr>\n",
              "    <tr>\n",
              "      <th>Year</th>\n",
              "      <td>False</td>\n",
              "    </tr>\n",
              "    <tr>\n",
              "      <th>home_goal</th>\n",
              "      <td>True</td>\n",
              "    </tr>\n",
              "    <tr>\n",
              "      <th>away_goal</th>\n",
              "      <td>True</td>\n",
              "    </tr>\n",
              "    <tr>\n",
              "      <th>home_goal_long</th>\n",
              "      <td>True</td>\n",
              "    </tr>\n",
              "    <tr>\n",
              "      <th>away_goal_long</th>\n",
              "      <td>True</td>\n",
              "    </tr>\n",
              "    <tr>\n",
              "      <th>home_own_goal</th>\n",
              "      <td>True</td>\n",
              "    </tr>\n",
              "    <tr>\n",
              "      <th>away_own_goal</th>\n",
              "      <td>True</td>\n",
              "    </tr>\n",
              "    <tr>\n",
              "      <th>home_penalty_goal</th>\n",
              "      <td>True</td>\n",
              "    </tr>\n",
              "    <tr>\n",
              "      <th>away_penalty_goal</th>\n",
              "      <td>True</td>\n",
              "    </tr>\n",
              "    <tr>\n",
              "      <th>home_penalty_miss_long</th>\n",
              "      <td>True</td>\n",
              "    </tr>\n",
              "    <tr>\n",
              "      <th>away_penalty_miss_long</th>\n",
              "      <td>True</td>\n",
              "    </tr>\n",
              "    <tr>\n",
              "      <th>home_penalty_shootout_goal_long</th>\n",
              "      <td>True</td>\n",
              "    </tr>\n",
              "    <tr>\n",
              "      <th>away_penalty_shootout_goal_long</th>\n",
              "      <td>True</td>\n",
              "    </tr>\n",
              "    <tr>\n",
              "      <th>home_penalty_shootout_miss_long</th>\n",
              "      <td>True</td>\n",
              "    </tr>\n",
              "    <tr>\n",
              "      <th>away_penalty_shootout_miss_long</th>\n",
              "      <td>True</td>\n",
              "    </tr>\n",
              "    <tr>\n",
              "      <th>home_substitute_in_long</th>\n",
              "      <td>True</td>\n",
              "    </tr>\n",
              "    <tr>\n",
              "      <th>away_substitute_in_long</th>\n",
              "      <td>True</td>\n",
              "    </tr>\n",
              "    <tr>\n",
              "      <th>away_yellow_card_count</th>\n",
              "      <td>False</td>\n",
              "    </tr>\n",
              "    <tr>\n",
              "      <th>home_yellow_card_count</th>\n",
              "      <td>False</td>\n",
              "    </tr>\n",
              "    <tr>\n",
              "      <th>home_red_card_count</th>\n",
              "      <td>False</td>\n",
              "    </tr>\n",
              "    <tr>\n",
              "      <th>away_red_card_count</th>\n",
              "      <td>False</td>\n",
              "    </tr>\n",
              "    <tr>\n",
              "      <th>penalty_kicks</th>\n",
              "      <td>False</td>\n",
              "    </tr>\n",
              "  </tbody>\n",
              "</table>\n",
              "</div><br><label><b>dtype:</b> bool</label>"
            ]
          },
          "metadata": {},
          "execution_count": 901
        }
      ]
    },
    {
      "cell_type": "markdown",
      "source": [
        "## Fill the null values in home_goal, and away_goal as 0"
      ],
      "metadata": {
        "id": "JkgLRuWAX1ba"
      }
    },
    {
      "cell_type": "code",
      "source": [
        "matches['home_goal'].fillna(0, inplace=True)\n",
        "matches['away_goal'].fillna(0, inplace=True)"
      ],
      "metadata": {
        "colab": {
          "base_uri": "https://localhost:8080/"
        },
        "id": "IS3tPQ_UWupV",
        "outputId": "9f38bff4-b051-4210-fc5b-bec8a9b8cbd7"
      },
      "execution_count": null,
      "outputs": [
        {
          "output_type": "stream",
          "name": "stderr",
          "text": [
            "<ipython-input-902-839c4bf5ff16>:1: FutureWarning: A value is trying to be set on a copy of a DataFrame or Series through chained assignment using an inplace method.\n",
            "The behavior will change in pandas 3.0. This inplace method will never work because the intermediate object on which we are setting values always behaves as a copy.\n",
            "\n",
            "For example, when doing 'df[col].method(value, inplace=True)', try using 'df.method({col: value}, inplace=True)' or df[col] = df[col].method(value) instead, to perform the operation inplace on the original object.\n",
            "\n",
            "\n",
            "  matches['home_goal'].fillna(0, inplace=True)\n",
            "<ipython-input-902-839c4bf5ff16>:2: FutureWarning: A value is trying to be set on a copy of a DataFrame or Series through chained assignment using an inplace method.\n",
            "The behavior will change in pandas 3.0. This inplace method will never work because the intermediate object on which we are setting values always behaves as a copy.\n",
            "\n",
            "For example, when doing 'df[col].method(value, inplace=True)', try using 'df.method({col: value}, inplace=True)' or df[col] = df[col].method(value) instead, to perform the operation inplace on the original object.\n",
            "\n",
            "\n",
            "  matches['away_goal'].fillna(0, inplace=True)\n"
          ]
        }
      ]
    },
    {
      "cell_type": "code",
      "source": [
        "matches.isnull().any()"
      ],
      "metadata": {
        "colab": {
          "base_uri": "https://localhost:8080/",
          "height": 1000
        },
        "id": "PINOpmrDW2lN",
        "outputId": "a28c7f1f-70f6-47b1-efbf-0d0fb64f92f0"
      },
      "execution_count": null,
      "outputs": [
        {
          "output_type": "execute_result",
          "data": {
            "text/plain": [
              "home_team                          False\n",
              "away_team                          False\n",
              "home_score                         False\n",
              "home_xg                            False\n",
              "home_penalty                       False\n",
              "away_score                         False\n",
              "away_xg                            False\n",
              "away_penalty                       False\n",
              "Attendance                         False\n",
              "Round                              False\n",
              "Date                               False\n",
              "Year                               False\n",
              "home_goal                          False\n",
              "away_goal                          False\n",
              "home_goal_long                      True\n",
              "away_goal_long                      True\n",
              "home_own_goal                       True\n",
              "away_own_goal                       True\n",
              "home_penalty_goal                   True\n",
              "away_penalty_goal                   True\n",
              "home_penalty_miss_long              True\n",
              "away_penalty_miss_long              True\n",
              "home_penalty_shootout_goal_long     True\n",
              "away_penalty_shootout_goal_long     True\n",
              "home_penalty_shootout_miss_long     True\n",
              "away_penalty_shootout_miss_long     True\n",
              "home_substitute_in_long             True\n",
              "away_substitute_in_long             True\n",
              "away_yellow_card_count             False\n",
              "home_yellow_card_count             False\n",
              "home_red_card_count                False\n",
              "away_red_card_count                False\n",
              "penalty_kicks                      False\n",
              "dtype: bool"
            ],
            "text/html": [
              "<div>\n",
              "<style scoped>\n",
              "    .dataframe tbody tr th:only-of-type {\n",
              "        vertical-align: middle;\n",
              "    }\n",
              "\n",
              "    .dataframe tbody tr th {\n",
              "        vertical-align: top;\n",
              "    }\n",
              "\n",
              "    .dataframe thead th {\n",
              "        text-align: right;\n",
              "    }\n",
              "</style>\n",
              "<table border=\"1\" class=\"dataframe\">\n",
              "  <thead>\n",
              "    <tr style=\"text-align: right;\">\n",
              "      <th></th>\n",
              "      <th>0</th>\n",
              "    </tr>\n",
              "  </thead>\n",
              "  <tbody>\n",
              "    <tr>\n",
              "      <th>home_team</th>\n",
              "      <td>False</td>\n",
              "    </tr>\n",
              "    <tr>\n",
              "      <th>away_team</th>\n",
              "      <td>False</td>\n",
              "    </tr>\n",
              "    <tr>\n",
              "      <th>home_score</th>\n",
              "      <td>False</td>\n",
              "    </tr>\n",
              "    <tr>\n",
              "      <th>home_xg</th>\n",
              "      <td>False</td>\n",
              "    </tr>\n",
              "    <tr>\n",
              "      <th>home_penalty</th>\n",
              "      <td>False</td>\n",
              "    </tr>\n",
              "    <tr>\n",
              "      <th>away_score</th>\n",
              "      <td>False</td>\n",
              "    </tr>\n",
              "    <tr>\n",
              "      <th>away_xg</th>\n",
              "      <td>False</td>\n",
              "    </tr>\n",
              "    <tr>\n",
              "      <th>away_penalty</th>\n",
              "      <td>False</td>\n",
              "    </tr>\n",
              "    <tr>\n",
              "      <th>Attendance</th>\n",
              "      <td>False</td>\n",
              "    </tr>\n",
              "    <tr>\n",
              "      <th>Round</th>\n",
              "      <td>False</td>\n",
              "    </tr>\n",
              "    <tr>\n",
              "      <th>Date</th>\n",
              "      <td>False</td>\n",
              "    </tr>\n",
              "    <tr>\n",
              "      <th>Year</th>\n",
              "      <td>False</td>\n",
              "    </tr>\n",
              "    <tr>\n",
              "      <th>home_goal</th>\n",
              "      <td>False</td>\n",
              "    </tr>\n",
              "    <tr>\n",
              "      <th>away_goal</th>\n",
              "      <td>False</td>\n",
              "    </tr>\n",
              "    <tr>\n",
              "      <th>home_goal_long</th>\n",
              "      <td>True</td>\n",
              "    </tr>\n",
              "    <tr>\n",
              "      <th>away_goal_long</th>\n",
              "      <td>True</td>\n",
              "    </tr>\n",
              "    <tr>\n",
              "      <th>home_own_goal</th>\n",
              "      <td>True</td>\n",
              "    </tr>\n",
              "    <tr>\n",
              "      <th>away_own_goal</th>\n",
              "      <td>True</td>\n",
              "    </tr>\n",
              "    <tr>\n",
              "      <th>home_penalty_goal</th>\n",
              "      <td>True</td>\n",
              "    </tr>\n",
              "    <tr>\n",
              "      <th>away_penalty_goal</th>\n",
              "      <td>True</td>\n",
              "    </tr>\n",
              "    <tr>\n",
              "      <th>home_penalty_miss_long</th>\n",
              "      <td>True</td>\n",
              "    </tr>\n",
              "    <tr>\n",
              "      <th>away_penalty_miss_long</th>\n",
              "      <td>True</td>\n",
              "    </tr>\n",
              "    <tr>\n",
              "      <th>home_penalty_shootout_goal_long</th>\n",
              "      <td>True</td>\n",
              "    </tr>\n",
              "    <tr>\n",
              "      <th>away_penalty_shootout_goal_long</th>\n",
              "      <td>True</td>\n",
              "    </tr>\n",
              "    <tr>\n",
              "      <th>home_penalty_shootout_miss_long</th>\n",
              "      <td>True</td>\n",
              "    </tr>\n",
              "    <tr>\n",
              "      <th>away_penalty_shootout_miss_long</th>\n",
              "      <td>True</td>\n",
              "    </tr>\n",
              "    <tr>\n",
              "      <th>home_substitute_in_long</th>\n",
              "      <td>True</td>\n",
              "    </tr>\n",
              "    <tr>\n",
              "      <th>away_substitute_in_long</th>\n",
              "      <td>True</td>\n",
              "    </tr>\n",
              "    <tr>\n",
              "      <th>away_yellow_card_count</th>\n",
              "      <td>False</td>\n",
              "    </tr>\n",
              "    <tr>\n",
              "      <th>home_yellow_card_count</th>\n",
              "      <td>False</td>\n",
              "    </tr>\n",
              "    <tr>\n",
              "      <th>home_red_card_count</th>\n",
              "      <td>False</td>\n",
              "    </tr>\n",
              "    <tr>\n",
              "      <th>away_red_card_count</th>\n",
              "      <td>False</td>\n",
              "    </tr>\n",
              "    <tr>\n",
              "      <th>penalty_kicks</th>\n",
              "      <td>False</td>\n",
              "    </tr>\n",
              "  </tbody>\n",
              "</table>\n",
              "</div><br><label><b>dtype:</b> bool</label>"
            ]
          },
          "metadata": {},
          "execution_count": 903
        }
      ]
    },
    {
      "cell_type": "markdown",
      "source": [
        "## Remove the goal related columns as they are repeated"
      ],
      "metadata": {
        "id": "kJYNlVb-X83-"
      }
    },
    {
      "cell_type": "code",
      "source": [
        "matches.drop(columns=['home_goal', 'away_goal', 'home_goal_long', 'away_goal_long', 'home_own_goal', 'away_own_goal', 'home_penalty_goal',\n",
        "                      'away_penalty_goal', 'home_penalty_miss_long', 'away_penalty_miss_long', 'home_penalty_shootout_goal_long',\n",
        "                      'away_penalty_shootout_goal_long', 'home_penalty_shootout_miss_long', 'away_penalty_shootout_miss_long'], inplace=True)"
      ],
      "metadata": {
        "id": "LAklFqt_XFq0"
      },
      "execution_count": null,
      "outputs": []
    },
    {
      "cell_type": "code",
      "source": [
        "matches.columns"
      ],
      "metadata": {
        "colab": {
          "base_uri": "https://localhost:8080/"
        },
        "id": "70dccj1hXhDj",
        "outputId": "737ae380-a967-4a93-caad-48e340b5ed38"
      },
      "execution_count": null,
      "outputs": [
        {
          "output_type": "execute_result",
          "data": {
            "text/plain": [
              "Index(['home_team', 'away_team', 'home_score', 'home_xg', 'home_penalty',\n",
              "       'away_score', 'away_xg', 'away_penalty', 'Attendance', 'Round', 'Date',\n",
              "       'Year', 'home_substitute_in_long', 'away_substitute_in_long',\n",
              "       'away_yellow_card_count', 'home_yellow_card_count',\n",
              "       'home_red_card_count', 'away_red_card_count', 'penalty_kicks'],\n",
              "      dtype='object')"
            ]
          },
          "metadata": {},
          "execution_count": 905
        }
      ]
    },
    {
      "cell_type": "code",
      "source": [
        "matches.isnull().any()"
      ],
      "metadata": {
        "colab": {
          "base_uri": "https://localhost:8080/",
          "height": 680
        },
        "id": "YSb8AJg-Xkzz",
        "outputId": "678529de-bc26-43f8-ab2c-895ab3b8cd95"
      },
      "execution_count": null,
      "outputs": [
        {
          "output_type": "execute_result",
          "data": {
            "text/plain": [
              "home_team                  False\n",
              "away_team                  False\n",
              "home_score                 False\n",
              "home_xg                    False\n",
              "home_penalty               False\n",
              "away_score                 False\n",
              "away_xg                    False\n",
              "away_penalty               False\n",
              "Attendance                 False\n",
              "Round                      False\n",
              "Date                       False\n",
              "Year                       False\n",
              "home_substitute_in_long     True\n",
              "away_substitute_in_long     True\n",
              "away_yellow_card_count     False\n",
              "home_yellow_card_count     False\n",
              "home_red_card_count        False\n",
              "away_red_card_count        False\n",
              "penalty_kicks              False\n",
              "dtype: bool"
            ],
            "text/html": [
              "<div>\n",
              "<style scoped>\n",
              "    .dataframe tbody tr th:only-of-type {\n",
              "        vertical-align: middle;\n",
              "    }\n",
              "\n",
              "    .dataframe tbody tr th {\n",
              "        vertical-align: top;\n",
              "    }\n",
              "\n",
              "    .dataframe thead th {\n",
              "        text-align: right;\n",
              "    }\n",
              "</style>\n",
              "<table border=\"1\" class=\"dataframe\">\n",
              "  <thead>\n",
              "    <tr style=\"text-align: right;\">\n",
              "      <th></th>\n",
              "      <th>0</th>\n",
              "    </tr>\n",
              "  </thead>\n",
              "  <tbody>\n",
              "    <tr>\n",
              "      <th>home_team</th>\n",
              "      <td>False</td>\n",
              "    </tr>\n",
              "    <tr>\n",
              "      <th>away_team</th>\n",
              "      <td>False</td>\n",
              "    </tr>\n",
              "    <tr>\n",
              "      <th>home_score</th>\n",
              "      <td>False</td>\n",
              "    </tr>\n",
              "    <tr>\n",
              "      <th>home_xg</th>\n",
              "      <td>False</td>\n",
              "    </tr>\n",
              "    <tr>\n",
              "      <th>home_penalty</th>\n",
              "      <td>False</td>\n",
              "    </tr>\n",
              "    <tr>\n",
              "      <th>away_score</th>\n",
              "      <td>False</td>\n",
              "    </tr>\n",
              "    <tr>\n",
              "      <th>away_xg</th>\n",
              "      <td>False</td>\n",
              "    </tr>\n",
              "    <tr>\n",
              "      <th>away_penalty</th>\n",
              "      <td>False</td>\n",
              "    </tr>\n",
              "    <tr>\n",
              "      <th>Attendance</th>\n",
              "      <td>False</td>\n",
              "    </tr>\n",
              "    <tr>\n",
              "      <th>Round</th>\n",
              "      <td>False</td>\n",
              "    </tr>\n",
              "    <tr>\n",
              "      <th>Date</th>\n",
              "      <td>False</td>\n",
              "    </tr>\n",
              "    <tr>\n",
              "      <th>Year</th>\n",
              "      <td>False</td>\n",
              "    </tr>\n",
              "    <tr>\n",
              "      <th>home_substitute_in_long</th>\n",
              "      <td>True</td>\n",
              "    </tr>\n",
              "    <tr>\n",
              "      <th>away_substitute_in_long</th>\n",
              "      <td>True</td>\n",
              "    </tr>\n",
              "    <tr>\n",
              "      <th>away_yellow_card_count</th>\n",
              "      <td>False</td>\n",
              "    </tr>\n",
              "    <tr>\n",
              "      <th>home_yellow_card_count</th>\n",
              "      <td>False</td>\n",
              "    </tr>\n",
              "    <tr>\n",
              "      <th>home_red_card_count</th>\n",
              "      <td>False</td>\n",
              "    </tr>\n",
              "    <tr>\n",
              "      <th>away_red_card_count</th>\n",
              "      <td>False</td>\n",
              "    </tr>\n",
              "    <tr>\n",
              "      <th>penalty_kicks</th>\n",
              "      <td>False</td>\n",
              "    </tr>\n",
              "  </tbody>\n",
              "</table>\n",
              "</div><br><label><b>dtype:</b> bool</label>"
            ]
          },
          "metadata": {},
          "execution_count": 906
        }
      ]
    },
    {
      "cell_type": "markdown",
      "source": [
        "# Calculate the total number of substitues in the match\n"
      ],
      "metadata": {
        "id": "MT7CCtcOYCah"
      }
    },
    {
      "cell_type": "code",
      "source": [
        "matches['home_substitute_in_long'] = matches['home_substitute_in_long'].astype(str)\n",
        "matches['home_substitutes_count'] = matches['home_substitute_in_long'].apply(count_total_split_with_comma)\n",
        "print(matches[['home_substitutes_count', 'home_substitute_in_long']])"
      ],
      "metadata": {
        "colab": {
          "base_uri": "https://localhost:8080/"
        },
        "id": "Gilqcc1VYIuH",
        "outputId": "aea3a089-f404-4b48-d55e-8491bdfd9b64"
      },
      "execution_count": null,
      "outputs": [
        {
          "output_type": "stream",
          "name": "stdout",
          "text": [
            "     home_substitutes_count                            home_substitute_in_long\n",
            "0                         3  ['60’|1:0|Oihane Hernández|for Alba Redondo', ...\n",
            "1                         3  ['67’|2:0|Rebecka Blomqvist|for Stina Blackste...\n",
            "2                         3  ['72’|1:2|Cortnee Vine|for Hayley Raso', '81’|...\n",
            "3                         3  ['57’|0:0|Salma Paralluelo|for Alexia Putellas...\n",
            "4                         3  ['55’|0:0|Sam Kerr|for Emily van Egmond', '104...\n",
            "..                      ...                                                ...\n",
            "343                       1       ['52’|0:1|Yuriko Mizuma|for Asako Takakura']\n",
            "344                       2  ['49’|0:3|Wu Min-hsun|for Lin Mei-jih', '62’|0...\n",
            "345                       2  ['54’|0:2|Ingrid Johansson|for Camilla Fors', ...\n",
            "346                       2  ['54’|3:0|Annette Thychosen|for Hanne Nissen',...\n",
            "347                       2  ['47’|2:0|Shui Qingxia|for Wu Weiying', '70’|3...\n",
            "\n",
            "[348 rows x 2 columns]\n"
          ]
        }
      ]
    },
    {
      "cell_type": "code",
      "source": [
        "matches.drop(columns=['home_substitute_in_long'], inplace=True)"
      ],
      "metadata": {
        "id": "IWl1v7MeYRtX"
      },
      "execution_count": null,
      "outputs": []
    },
    {
      "cell_type": "code",
      "source": [
        "matches['away_substitute_in_long'] = matches['away_substitute_in_long'].astype(str)\n",
        "matches['away_substitutes_count'] = matches['away_substitute_in_long'].apply(count_total_split_with_comma)\n",
        "print(matches[['away_substitutes_count', 'away_substitute_in_long']])"
      ],
      "metadata": {
        "colab": {
          "base_uri": "https://localhost:8080/"
        },
        "id": "QSlmaoohYxeW",
        "outputId": "e5c375c4-9fde-4368-a811-f8ab925c2516"
      },
      "execution_count": null,
      "outputs": [
        {
          "output_type": "stream",
          "name": "stdout",
          "text": [
            "     away_substitutes_count                            away_substitute_in_long\n",
            "0                         3  ['46’|1:0|Lauren James|for Alessia Russo', '46...\n",
            "1                         4  ['60’|1:0|Cortnee Vine|for Hayley Raso', '60’|...\n",
            "2                         2  ['87’|1:3|Chloe Kelly|for Alessia Russo', '90’...\n",
            "3                         3  ['77’|0:0|Rebecka Blomqvist|for Stina Blackste...\n",
            "4                         3  ['64’|0:0|Vicki Bècho|for Sandie Toletti', '12...\n",
            "..                      ...                                                ...\n",
            "343                       2  ['15’|0:1|Doralice|for Marisa Pires Nogueira',...\n",
            "344                       2  ['48’|0:3|Emma Iozzelli|for Maura Furlotti', '...\n",
            "345                       1      ['33’|0:0|Linda Hamilton|for Kristine Lilly']\n",
            "346                       2  ['41’|2:0|Terry McCahill|for Cinnamon Chaney',...\n",
            "347                       2  ['59’|3:0|Ellen Scheel Aalbu|for Birthe Hegsta...\n",
            "\n",
            "[348 rows x 2 columns]\n"
          ]
        }
      ]
    },
    {
      "cell_type": "code",
      "source": [
        "matches.drop(columns=['away_substitute_in_long'], inplace=True)"
      ],
      "metadata": {
        "id": "poNpeyHmZXLW"
      },
      "execution_count": null,
      "outputs": []
    },
    {
      "cell_type": "markdown",
      "source": [
        "# Save the double values as integer values"
      ],
      "metadata": {
        "id": "VuF90cFRZr5D"
      }
    },
    {
      "cell_type": "code",
      "source": [
        "matches.dtypes"
      ],
      "metadata": {
        "colab": {
          "base_uri": "https://localhost:8080/",
          "height": 680
        },
        "id": "qggrkTiEZvfm",
        "outputId": "eb10883c-81bc-48ac-d4c1-b375720ced9d"
      },
      "execution_count": null,
      "outputs": [
        {
          "output_type": "execute_result",
          "data": {
            "text/plain": [
              "home_team                  object\n",
              "away_team                  object\n",
              "home_score                  int64\n",
              "home_xg                   float64\n",
              "home_penalty              float64\n",
              "away_score                  int64\n",
              "away_xg                   float64\n",
              "away_penalty              float64\n",
              "Attendance                  int64\n",
              "Round                      object\n",
              "Date                       object\n",
              "Year                        int64\n",
              "away_yellow_card_count      int64\n",
              "home_yellow_card_count      int64\n",
              "home_red_card_count         int64\n",
              "away_red_card_count         int64\n",
              "penalty_kicks                bool\n",
              "home_substitutes_count      int64\n",
              "away_substitutes_count      int64\n",
              "dtype: object"
            ],
            "text/html": [
              "<div>\n",
              "<style scoped>\n",
              "    .dataframe tbody tr th:only-of-type {\n",
              "        vertical-align: middle;\n",
              "    }\n",
              "\n",
              "    .dataframe tbody tr th {\n",
              "        vertical-align: top;\n",
              "    }\n",
              "\n",
              "    .dataframe thead th {\n",
              "        text-align: right;\n",
              "    }\n",
              "</style>\n",
              "<table border=\"1\" class=\"dataframe\">\n",
              "  <thead>\n",
              "    <tr style=\"text-align: right;\">\n",
              "      <th></th>\n",
              "      <th>0</th>\n",
              "    </tr>\n",
              "  </thead>\n",
              "  <tbody>\n",
              "    <tr>\n",
              "      <th>home_team</th>\n",
              "      <td>object</td>\n",
              "    </tr>\n",
              "    <tr>\n",
              "      <th>away_team</th>\n",
              "      <td>object</td>\n",
              "    </tr>\n",
              "    <tr>\n",
              "      <th>home_score</th>\n",
              "      <td>int64</td>\n",
              "    </tr>\n",
              "    <tr>\n",
              "      <th>home_xg</th>\n",
              "      <td>float64</td>\n",
              "    </tr>\n",
              "    <tr>\n",
              "      <th>home_penalty</th>\n",
              "      <td>float64</td>\n",
              "    </tr>\n",
              "    <tr>\n",
              "      <th>away_score</th>\n",
              "      <td>int64</td>\n",
              "    </tr>\n",
              "    <tr>\n",
              "      <th>away_xg</th>\n",
              "      <td>float64</td>\n",
              "    </tr>\n",
              "    <tr>\n",
              "      <th>away_penalty</th>\n",
              "      <td>float64</td>\n",
              "    </tr>\n",
              "    <tr>\n",
              "      <th>Attendance</th>\n",
              "      <td>int64</td>\n",
              "    </tr>\n",
              "    <tr>\n",
              "      <th>Round</th>\n",
              "      <td>object</td>\n",
              "    </tr>\n",
              "    <tr>\n",
              "      <th>Date</th>\n",
              "      <td>object</td>\n",
              "    </tr>\n",
              "    <tr>\n",
              "      <th>Year</th>\n",
              "      <td>int64</td>\n",
              "    </tr>\n",
              "    <tr>\n",
              "      <th>away_yellow_card_count</th>\n",
              "      <td>int64</td>\n",
              "    </tr>\n",
              "    <tr>\n",
              "      <th>home_yellow_card_count</th>\n",
              "      <td>int64</td>\n",
              "    </tr>\n",
              "    <tr>\n",
              "      <th>home_red_card_count</th>\n",
              "      <td>int64</td>\n",
              "    </tr>\n",
              "    <tr>\n",
              "      <th>away_red_card_count</th>\n",
              "      <td>int64</td>\n",
              "    </tr>\n",
              "    <tr>\n",
              "      <th>penalty_kicks</th>\n",
              "      <td>bool</td>\n",
              "    </tr>\n",
              "    <tr>\n",
              "      <th>home_substitutes_count</th>\n",
              "      <td>int64</td>\n",
              "    </tr>\n",
              "    <tr>\n",
              "      <th>away_substitutes_count</th>\n",
              "      <td>int64</td>\n",
              "    </tr>\n",
              "  </tbody>\n",
              "</table>\n",
              "</div><br><label><b>dtype:</b> object</label>"
            ]
          },
          "metadata": {},
          "execution_count": 911
        }
      ]
    },
    {
      "cell_type": "code",
      "source": [
        "matches['away_penalty'] = matches['away_penalty'].astype(int)\n",
        "matches['home_penalty'] = matches['home_penalty'].astype(int)"
      ],
      "metadata": {
        "id": "f9MM5htpZ96L"
      },
      "execution_count": null,
      "outputs": []
    },
    {
      "cell_type": "markdown",
      "source": [
        "# Save the final cleaned dataframe to a new file"
      ],
      "metadata": {
        "id": "cSXN4uX-Y9mj"
      }
    },
    {
      "cell_type": "code",
      "source": [
        "matches.rename(columns=lambda x: x.lower(), inplace=True)"
      ],
      "metadata": {
        "id": "gsFfZxxpgoLz"
      },
      "execution_count": null,
      "outputs": []
    },
    {
      "cell_type": "code",
      "source": [
        "matches.head()"
      ],
      "metadata": {
        "colab": {
          "base_uri": "https://localhost:8080/",
          "height": 330
        },
        "id": "cCCLstsHZCBx",
        "outputId": "bd3b0bd0-ee5a-42fb-c2e1-7c17c0147512"
      },
      "execution_count": null,
      "outputs": [
        {
          "output_type": "execute_result",
          "data": {
            "text/plain": [
              "   home_team  away_team  home_score  home_xg  home_penalty  away_score  \\\n",
              "0      Spain    England           1      2.1             0           0   \n",
              "1     Sweden  Australia           2      1.8             0           0   \n",
              "2  Australia    England           1      1.4             0           3   \n",
              "3      Spain     Sweden           2      1.6             0           1   \n",
              "4  Australia     France           0      1.6             7           0   \n",
              "\n",
              "   away_xg  away_penalty  attendance              round        date  year  \\\n",
              "0      0.5             0       75784              Final  2023-08-20  2023   \n",
              "1      0.8             0       49461  Third-place match  2023-08-19  2023   \n",
              "2      1.3             0       75784        Semi-finals  2023-08-16  2023   \n",
              "3      0.9             0       43217        Semi-finals  2023-08-15  2023   \n",
              "4      2.0             6       49461     Quarter-finals  2023-08-12  2023   \n",
              "\n",
              "   away_yellow_card_count  home_yellow_card_count  home_red_card_count  \\\n",
              "0                       1                       1                    0   \n",
              "1                       1                       2                    0   \n",
              "2                       2                       0                    0   \n",
              "3                       0                       0                    0   \n",
              "4                       0                       1                    0   \n",
              "\n",
              "   away_red_card_count  penalty_kicks  home_substitutes_count  \\\n",
              "0                    0          False                       3   \n",
              "1                    0          False                       3   \n",
              "2                    0          False                       3   \n",
              "3                    0          False                       3   \n",
              "4                    0           True                       3   \n",
              "\n",
              "   away_substitutes_count  \n",
              "0                       3  \n",
              "1                       4  \n",
              "2                       2  \n",
              "3                       3  \n",
              "4                       3  "
            ],
            "text/html": [
              "\n",
              "  <div id=\"df-27591185-e3c8-420a-a031-0cd8597f6edd\" class=\"colab-df-container\">\n",
              "    <div>\n",
              "<style scoped>\n",
              "    .dataframe tbody tr th:only-of-type {\n",
              "        vertical-align: middle;\n",
              "    }\n",
              "\n",
              "    .dataframe tbody tr th {\n",
              "        vertical-align: top;\n",
              "    }\n",
              "\n",
              "    .dataframe thead th {\n",
              "        text-align: right;\n",
              "    }\n",
              "</style>\n",
              "<table border=\"1\" class=\"dataframe\">\n",
              "  <thead>\n",
              "    <tr style=\"text-align: right;\">\n",
              "      <th></th>\n",
              "      <th>home_team</th>\n",
              "      <th>away_team</th>\n",
              "      <th>home_score</th>\n",
              "      <th>home_xg</th>\n",
              "      <th>home_penalty</th>\n",
              "      <th>away_score</th>\n",
              "      <th>away_xg</th>\n",
              "      <th>away_penalty</th>\n",
              "      <th>attendance</th>\n",
              "      <th>round</th>\n",
              "      <th>date</th>\n",
              "      <th>year</th>\n",
              "      <th>away_yellow_card_count</th>\n",
              "      <th>home_yellow_card_count</th>\n",
              "      <th>home_red_card_count</th>\n",
              "      <th>away_red_card_count</th>\n",
              "      <th>penalty_kicks</th>\n",
              "      <th>home_substitutes_count</th>\n",
              "      <th>away_substitutes_count</th>\n",
              "    </tr>\n",
              "  </thead>\n",
              "  <tbody>\n",
              "    <tr>\n",
              "      <th>0</th>\n",
              "      <td>Spain</td>\n",
              "      <td>England</td>\n",
              "      <td>1</td>\n",
              "      <td>2.1</td>\n",
              "      <td>0</td>\n",
              "      <td>0</td>\n",
              "      <td>0.5</td>\n",
              "      <td>0</td>\n",
              "      <td>75784</td>\n",
              "      <td>Final</td>\n",
              "      <td>2023-08-20</td>\n",
              "      <td>2023</td>\n",
              "      <td>1</td>\n",
              "      <td>1</td>\n",
              "      <td>0</td>\n",
              "      <td>0</td>\n",
              "      <td>False</td>\n",
              "      <td>3</td>\n",
              "      <td>3</td>\n",
              "    </tr>\n",
              "    <tr>\n",
              "      <th>1</th>\n",
              "      <td>Sweden</td>\n",
              "      <td>Australia</td>\n",
              "      <td>2</td>\n",
              "      <td>1.8</td>\n",
              "      <td>0</td>\n",
              "      <td>0</td>\n",
              "      <td>0.8</td>\n",
              "      <td>0</td>\n",
              "      <td>49461</td>\n",
              "      <td>Third-place match</td>\n",
              "      <td>2023-08-19</td>\n",
              "      <td>2023</td>\n",
              "      <td>1</td>\n",
              "      <td>2</td>\n",
              "      <td>0</td>\n",
              "      <td>0</td>\n",
              "      <td>False</td>\n",
              "      <td>3</td>\n",
              "      <td>4</td>\n",
              "    </tr>\n",
              "    <tr>\n",
              "      <th>2</th>\n",
              "      <td>Australia</td>\n",
              "      <td>England</td>\n",
              "      <td>1</td>\n",
              "      <td>1.4</td>\n",
              "      <td>0</td>\n",
              "      <td>3</td>\n",
              "      <td>1.3</td>\n",
              "      <td>0</td>\n",
              "      <td>75784</td>\n",
              "      <td>Semi-finals</td>\n",
              "      <td>2023-08-16</td>\n",
              "      <td>2023</td>\n",
              "      <td>2</td>\n",
              "      <td>0</td>\n",
              "      <td>0</td>\n",
              "      <td>0</td>\n",
              "      <td>False</td>\n",
              "      <td>3</td>\n",
              "      <td>2</td>\n",
              "    </tr>\n",
              "    <tr>\n",
              "      <th>3</th>\n",
              "      <td>Spain</td>\n",
              "      <td>Sweden</td>\n",
              "      <td>2</td>\n",
              "      <td>1.6</td>\n",
              "      <td>0</td>\n",
              "      <td>1</td>\n",
              "      <td>0.9</td>\n",
              "      <td>0</td>\n",
              "      <td>43217</td>\n",
              "      <td>Semi-finals</td>\n",
              "      <td>2023-08-15</td>\n",
              "      <td>2023</td>\n",
              "      <td>0</td>\n",
              "      <td>0</td>\n",
              "      <td>0</td>\n",
              "      <td>0</td>\n",
              "      <td>False</td>\n",
              "      <td>3</td>\n",
              "      <td>3</td>\n",
              "    </tr>\n",
              "    <tr>\n",
              "      <th>4</th>\n",
              "      <td>Australia</td>\n",
              "      <td>France</td>\n",
              "      <td>0</td>\n",
              "      <td>1.6</td>\n",
              "      <td>7</td>\n",
              "      <td>0</td>\n",
              "      <td>2.0</td>\n",
              "      <td>6</td>\n",
              "      <td>49461</td>\n",
              "      <td>Quarter-finals</td>\n",
              "      <td>2023-08-12</td>\n",
              "      <td>2023</td>\n",
              "      <td>0</td>\n",
              "      <td>1</td>\n",
              "      <td>0</td>\n",
              "      <td>0</td>\n",
              "      <td>True</td>\n",
              "      <td>3</td>\n",
              "      <td>3</td>\n",
              "    </tr>\n",
              "  </tbody>\n",
              "</table>\n",
              "</div>\n",
              "    <div class=\"colab-df-buttons\">\n",
              "\n",
              "  <div class=\"colab-df-container\">\n",
              "    <button class=\"colab-df-convert\" onclick=\"convertToInteractive('df-27591185-e3c8-420a-a031-0cd8597f6edd')\"\n",
              "            title=\"Convert this dataframe to an interactive table.\"\n",
              "            style=\"display:none;\">\n",
              "\n",
              "  <svg xmlns=\"http://www.w3.org/2000/svg\" height=\"24px\" viewBox=\"0 -960 960 960\">\n",
              "    <path d=\"M120-120v-720h720v720H120Zm60-500h600v-160H180v160Zm220 220h160v-160H400v160Zm0 220h160v-160H400v160ZM180-400h160v-160H180v160Zm440 0h160v-160H620v160ZM180-180h160v-160H180v160Zm440 0h160v-160H620v160Z\"/>\n",
              "  </svg>\n",
              "    </button>\n",
              "\n",
              "  <style>\n",
              "    .colab-df-container {\n",
              "      display:flex;\n",
              "      gap: 12px;\n",
              "    }\n",
              "\n",
              "    .colab-df-convert {\n",
              "      background-color: #E8F0FE;\n",
              "      border: none;\n",
              "      border-radius: 50%;\n",
              "      cursor: pointer;\n",
              "      display: none;\n",
              "      fill: #1967D2;\n",
              "      height: 32px;\n",
              "      padding: 0 0 0 0;\n",
              "      width: 32px;\n",
              "    }\n",
              "\n",
              "    .colab-df-convert:hover {\n",
              "      background-color: #E2EBFA;\n",
              "      box-shadow: 0px 1px 2px rgba(60, 64, 67, 0.3), 0px 1px 3px 1px rgba(60, 64, 67, 0.15);\n",
              "      fill: #174EA6;\n",
              "    }\n",
              "\n",
              "    .colab-df-buttons div {\n",
              "      margin-bottom: 4px;\n",
              "    }\n",
              "\n",
              "    [theme=dark] .colab-df-convert {\n",
              "      background-color: #3B4455;\n",
              "      fill: #D2E3FC;\n",
              "    }\n",
              "\n",
              "    [theme=dark] .colab-df-convert:hover {\n",
              "      background-color: #434B5C;\n",
              "      box-shadow: 0px 1px 3px 1px rgba(0, 0, 0, 0.15);\n",
              "      filter: drop-shadow(0px 1px 2px rgba(0, 0, 0, 0.3));\n",
              "      fill: #FFFFFF;\n",
              "    }\n",
              "  </style>\n",
              "\n",
              "    <script>\n",
              "      const buttonEl =\n",
              "        document.querySelector('#df-27591185-e3c8-420a-a031-0cd8597f6edd button.colab-df-convert');\n",
              "      buttonEl.style.display =\n",
              "        google.colab.kernel.accessAllowed ? 'block' : 'none';\n",
              "\n",
              "      async function convertToInteractive(key) {\n",
              "        const element = document.querySelector('#df-27591185-e3c8-420a-a031-0cd8597f6edd');\n",
              "        const dataTable =\n",
              "          await google.colab.kernel.invokeFunction('convertToInteractive',\n",
              "                                                    [key], {});\n",
              "        if (!dataTable) return;\n",
              "\n",
              "        const docLinkHtml = 'Like what you see? Visit the ' +\n",
              "          '<a target=\"_blank\" href=https://colab.research.google.com/notebooks/data_table.ipynb>data table notebook</a>'\n",
              "          + ' to learn more about interactive tables.';\n",
              "        element.innerHTML = '';\n",
              "        dataTable['output_type'] = 'display_data';\n",
              "        await google.colab.output.renderOutput(dataTable, element);\n",
              "        const docLink = document.createElement('div');\n",
              "        docLink.innerHTML = docLinkHtml;\n",
              "        element.appendChild(docLink);\n",
              "      }\n",
              "    </script>\n",
              "  </div>\n",
              "\n",
              "\n",
              "<div id=\"df-6a602070-5b01-437d-83dc-c07fcb67f863\">\n",
              "  <button class=\"colab-df-quickchart\" onclick=\"quickchart('df-6a602070-5b01-437d-83dc-c07fcb67f863')\"\n",
              "            title=\"Suggest charts\"\n",
              "            style=\"display:none;\">\n",
              "\n",
              "<svg xmlns=\"http://www.w3.org/2000/svg\" height=\"24px\"viewBox=\"0 0 24 24\"\n",
              "     width=\"24px\">\n",
              "    <g>\n",
              "        <path d=\"M19 3H5c-1.1 0-2 .9-2 2v14c0 1.1.9 2 2 2h14c1.1 0 2-.9 2-2V5c0-1.1-.9-2-2-2zM9 17H7v-7h2v7zm4 0h-2V7h2v10zm4 0h-2v-4h2v4z\"/>\n",
              "    </g>\n",
              "</svg>\n",
              "  </button>\n",
              "\n",
              "<style>\n",
              "  .colab-df-quickchart {\n",
              "      --bg-color: #E8F0FE;\n",
              "      --fill-color: #1967D2;\n",
              "      --hover-bg-color: #E2EBFA;\n",
              "      --hover-fill-color: #174EA6;\n",
              "      --disabled-fill-color: #AAA;\n",
              "      --disabled-bg-color: #DDD;\n",
              "  }\n",
              "\n",
              "  [theme=dark] .colab-df-quickchart {\n",
              "      --bg-color: #3B4455;\n",
              "      --fill-color: #D2E3FC;\n",
              "      --hover-bg-color: #434B5C;\n",
              "      --hover-fill-color: #FFFFFF;\n",
              "      --disabled-bg-color: #3B4455;\n",
              "      --disabled-fill-color: #666;\n",
              "  }\n",
              "\n",
              "  .colab-df-quickchart {\n",
              "    background-color: var(--bg-color);\n",
              "    border: none;\n",
              "    border-radius: 50%;\n",
              "    cursor: pointer;\n",
              "    display: none;\n",
              "    fill: var(--fill-color);\n",
              "    height: 32px;\n",
              "    padding: 0;\n",
              "    width: 32px;\n",
              "  }\n",
              "\n",
              "  .colab-df-quickchart:hover {\n",
              "    background-color: var(--hover-bg-color);\n",
              "    box-shadow: 0 1px 2px rgba(60, 64, 67, 0.3), 0 1px 3px 1px rgba(60, 64, 67, 0.15);\n",
              "    fill: var(--button-hover-fill-color);\n",
              "  }\n",
              "\n",
              "  .colab-df-quickchart-complete:disabled,\n",
              "  .colab-df-quickchart-complete:disabled:hover {\n",
              "    background-color: var(--disabled-bg-color);\n",
              "    fill: var(--disabled-fill-color);\n",
              "    box-shadow: none;\n",
              "  }\n",
              "\n",
              "  .colab-df-spinner {\n",
              "    border: 2px solid var(--fill-color);\n",
              "    border-color: transparent;\n",
              "    border-bottom-color: var(--fill-color);\n",
              "    animation:\n",
              "      spin 1s steps(1) infinite;\n",
              "  }\n",
              "\n",
              "  @keyframes spin {\n",
              "    0% {\n",
              "      border-color: transparent;\n",
              "      border-bottom-color: var(--fill-color);\n",
              "      border-left-color: var(--fill-color);\n",
              "    }\n",
              "    20% {\n",
              "      border-color: transparent;\n",
              "      border-left-color: var(--fill-color);\n",
              "      border-top-color: var(--fill-color);\n",
              "    }\n",
              "    30% {\n",
              "      border-color: transparent;\n",
              "      border-left-color: var(--fill-color);\n",
              "      border-top-color: var(--fill-color);\n",
              "      border-right-color: var(--fill-color);\n",
              "    }\n",
              "    40% {\n",
              "      border-color: transparent;\n",
              "      border-right-color: var(--fill-color);\n",
              "      border-top-color: var(--fill-color);\n",
              "    }\n",
              "    60% {\n",
              "      border-color: transparent;\n",
              "      border-right-color: var(--fill-color);\n",
              "    }\n",
              "    80% {\n",
              "      border-color: transparent;\n",
              "      border-right-color: var(--fill-color);\n",
              "      border-bottom-color: var(--fill-color);\n",
              "    }\n",
              "    90% {\n",
              "      border-color: transparent;\n",
              "      border-bottom-color: var(--fill-color);\n",
              "    }\n",
              "  }\n",
              "</style>\n",
              "\n",
              "  <script>\n",
              "    async function quickchart(key) {\n",
              "      const quickchartButtonEl =\n",
              "        document.querySelector('#' + key + ' button');\n",
              "      quickchartButtonEl.disabled = true;  // To prevent multiple clicks.\n",
              "      quickchartButtonEl.classList.add('colab-df-spinner');\n",
              "      try {\n",
              "        const charts = await google.colab.kernel.invokeFunction(\n",
              "            'suggestCharts', [key], {});\n",
              "      } catch (error) {\n",
              "        console.error('Error during call to suggestCharts:', error);\n",
              "      }\n",
              "      quickchartButtonEl.classList.remove('colab-df-spinner');\n",
              "      quickchartButtonEl.classList.add('colab-df-quickchart-complete');\n",
              "    }\n",
              "    (() => {\n",
              "      let quickchartButtonEl =\n",
              "        document.querySelector('#df-6a602070-5b01-437d-83dc-c07fcb67f863 button');\n",
              "      quickchartButtonEl.style.display =\n",
              "        google.colab.kernel.accessAllowed ? 'block' : 'none';\n",
              "    })();\n",
              "  </script>\n",
              "</div>\n",
              "\n",
              "    </div>\n",
              "  </div>\n"
            ],
            "application/vnd.google.colaboratory.intrinsic+json": {
              "type": "dataframe",
              "variable_name": "matches",
              "summary": "{\n  \"name\": \"matches\",\n  \"rows\": 348,\n  \"fields\": [\n    {\n      \"column\": \"home_team\",\n      \"properties\": {\n        \"dtype\": \"category\",\n        \"num_unique_values\": 44,\n        \"samples\": [\n          \"Ecuador\",\n          \"United States\",\n          \"New Zealand\"\n        ],\n        \"semantic_type\": \"\",\n        \"description\": \"\"\n      }\n    },\n    {\n      \"column\": \"away_team\",\n      \"properties\": {\n        \"dtype\": \"category\",\n        \"num_unique_values\": 44,\n        \"samples\": [\n          \"Ecuador\",\n          \"Korea Republic\",\n          \"Argentina\"\n        ],\n        \"semantic_type\": \"\",\n        \"description\": \"\"\n      }\n    },\n    {\n      \"column\": \"home_score\",\n      \"properties\": {\n        \"dtype\": \"number\",\n        \"std\": 1,\n        \"min\": 0,\n        \"max\": 13,\n        \"num_unique_values\": 12,\n        \"samples\": [\n          11,\n          7,\n          1\n        ],\n        \"semantic_type\": \"\",\n        \"description\": \"\"\n      }\n    },\n    {\n      \"column\": \"home_xg\",\n      \"properties\": {\n        \"dtype\": \"number\",\n        \"std\": 1.1311504153069525,\n        \"min\": 0.0,\n        \"max\": 7.1,\n        \"num_unique_values\": 55,\n        \"samples\": [\n          3.0,\n          3.4,\n          1.3\n        ],\n        \"semantic_type\": \"\",\n        \"description\": \"\"\n      }\n    },\n    {\n      \"column\": \"home_penalty\",\n      \"properties\": {\n        \"dtype\": \"number\",\n        \"std\": 0,\n        \"min\": 0,\n        \"max\": 7,\n        \"num_unique_values\": 5,\n        \"samples\": [\n          7,\n          3,\n          4\n        ],\n        \"semantic_type\": \"\",\n        \"description\": \"\"\n      }\n    },\n    {\n      \"column\": \"away_score\",\n      \"properties\": {\n        \"dtype\": \"number\",\n        \"std\": 1,\n        \"min\": 0,\n        \"max\": 8,\n        \"num_unique_values\": 9,\n        \"samples\": [\n          4,\n          3,\n          6\n        ],\n        \"semantic_type\": \"\",\n        \"description\": \"\"\n      }\n    },\n    {\n      \"column\": \"away_xg\",\n      \"properties\": {\n        \"dtype\": \"number\",\n        \"std\": 0.9153922267070865,\n        \"min\": 0.0,\n        \"max\": 6.5,\n        \"num_unique_values\": 47,\n        \"samples\": [\n          1.5,\n          0.57,\n          0.2\n        ],\n        \"semantic_type\": \"\",\n        \"description\": \"\"\n      }\n    },\n    {\n      \"column\": \"away_penalty\",\n      \"properties\": {\n        \"dtype\": \"number\",\n        \"std\": 0,\n        \"min\": 0,\n        \"max\": 6,\n        \"num_unique_values\": 6,\n        \"samples\": [\n          0,\n          6,\n          5\n        ],\n        \"semantic_type\": \"\",\n        \"description\": \"\"\n      }\n    },\n    {\n      \"column\": \"attendance\",\n      \"properties\": {\n        \"dtype\": \"number\",\n        \"std\": 17683,\n        \"min\": 0,\n        \"max\": 90185,\n        \"num_unique_values\": 254,\n        \"samples\": [\n          16316,\n          40233,\n          13034\n        ],\n        \"semantic_type\": \"\",\n        \"description\": \"\"\n      }\n    },\n    {\n      \"column\": \"round\",\n      \"properties\": {\n        \"dtype\": \"category\",\n        \"num_unique_values\": 6,\n        \"samples\": [\n          \"Final\",\n          \"Third-place match\",\n          \"Group stage\"\n        ],\n        \"semantic_type\": \"\",\n        \"description\": \"\"\n      }\n    },\n    {\n      \"column\": \"date\",\n      \"properties\": {\n        \"dtype\": \"object\",\n        \"num_unique_values\": 138,\n        \"samples\": [\n          \"2007-09-23\",\n          \"2003-09-27\",\n          \"2023-08-01\"\n        ],\n        \"semantic_type\": \"\",\n        \"description\": \"\"\n      }\n    },\n    {\n      \"column\": \"year\",\n      \"properties\": {\n        \"dtype\": \"number\",\n        \"std\": 10,\n        \"min\": 1991,\n        \"max\": 2023,\n        \"num_unique_values\": 9,\n        \"samples\": [\n          1995,\n          2019,\n          2003\n        ],\n        \"semantic_type\": \"\",\n        \"description\": \"\"\n      }\n    },\n    {\n      \"column\": \"away_yellow_card_count\",\n      \"properties\": {\n        \"dtype\": \"number\",\n        \"std\": 1,\n        \"min\": 0,\n        \"max\": 6,\n        \"num_unique_values\": 6,\n        \"samples\": [\n          1,\n          2,\n          6\n        ],\n        \"semantic_type\": \"\",\n        \"description\": \"\"\n      }\n    },\n    {\n      \"column\": \"home_yellow_card_count\",\n      \"properties\": {\n        \"dtype\": \"number\",\n        \"std\": 0,\n        \"min\": 0,\n        \"max\": 5,\n        \"num_unique_values\": 6,\n        \"samples\": [\n          1,\n          2,\n          5\n        ],\n        \"semantic_type\": \"\",\n        \"description\": \"\"\n      }\n    },\n    {\n      \"column\": \"home_red_card_count\",\n      \"properties\": {\n        \"dtype\": \"number\",\n        \"std\": 0,\n        \"min\": 0,\n        \"max\": 1,\n        \"num_unique_values\": 2,\n        \"samples\": [\n          1,\n          0\n        ],\n        \"semantic_type\": \"\",\n        \"description\": \"\"\n      }\n    },\n    {\n      \"column\": \"away_red_card_count\",\n      \"properties\": {\n        \"dtype\": \"number\",\n        \"std\": 0,\n        \"min\": 0,\n        \"max\": 1,\n        \"num_unique_values\": 2,\n        \"samples\": [\n          1,\n          0\n        ],\n        \"semantic_type\": \"\",\n        \"description\": \"\"\n      }\n    },\n    {\n      \"column\": \"penalty_kicks\",\n      \"properties\": {\n        \"dtype\": \"boolean\",\n        \"num_unique_values\": 2,\n        \"samples\": [\n          true,\n          false\n        ],\n        \"semantic_type\": \"\",\n        \"description\": \"\"\n      }\n    },\n    {\n      \"column\": \"home_substitutes_count\",\n      \"properties\": {\n        \"dtype\": \"number\",\n        \"std\": 0,\n        \"min\": 0,\n        \"max\": 6,\n        \"num_unique_values\": 7,\n        \"samples\": [\n          3,\n          2\n        ],\n        \"semantic_type\": \"\",\n        \"description\": \"\"\n      }\n    },\n    {\n      \"column\": \"away_substitutes_count\",\n      \"properties\": {\n        \"dtype\": \"number\",\n        \"std\": 0,\n        \"min\": 0,\n        \"max\": 6,\n        \"num_unique_values\": 7,\n        \"samples\": [\n          3,\n          4\n        ],\n        \"semantic_type\": \"\",\n        \"description\": \"\"\n      }\n    }\n  ]\n}"
            }
          },
          "metadata": {},
          "execution_count": 914
        }
      ]
    },
    {
      "cell_type": "code",
      "source": [
        "matches.to_csv('/content/drive/MyDrive/EIU Statistical Analysis For Data Science/datasets/matches_cleaned.csv', index=False)"
      ],
      "metadata": {
        "id": "oF2UaR1BaZLf"
      },
      "execution_count": null,
      "outputs": []
    }
  ]
}