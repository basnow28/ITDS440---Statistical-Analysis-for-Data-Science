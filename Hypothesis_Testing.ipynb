{
  "nbformat": 4,
  "nbformat_minor": 0,
  "metadata": {
    "colab": {
      "provenance": [],
      "authorship_tag": "ABX9TyNbEKNPFXmlz5bBqWOd+Z86",
      "include_colab_link": true
    },
    "kernelspec": {
      "name": "python3",
      "display_name": "Python 3"
    },
    "language_info": {
      "name": "python"
    }
  },
  "cells": [
    {
      "cell_type": "markdown",
      "metadata": {
        "id": "view-in-github",
        "colab_type": "text"
      },
      "source": [
        "<a href=\"https://colab.research.google.com/github/basnow28/ITDS440---Statistical-Analysis-for-Data-Science/blob/main/Hypothesis_Testing.ipynb\" target=\"_parent\"><img src=\"https://colab.research.google.com/assets/colab-badge.svg\" alt=\"Open In Colab\"/></a>"
      ]
    },
    {
      "cell_type": "code",
      "execution_count": 1,
      "metadata": {
        "colab": {
          "base_uri": "https://localhost:8080/"
        },
        "id": "uZjA0WyCU5IS",
        "outputId": "f013d0c6-c2b1-402a-a118-6460cd009a33"
      },
      "outputs": [
        {
          "output_type": "stream",
          "name": "stdout",
          "text": [
            "Mounted at /content/drive\n"
          ]
        }
      ],
      "source": [
        "from google.colab import drive\n",
        "drive.mount('/content/drive')\n",
        "\n",
        "import pandas as pd\n",
        "import numpy as np\n",
        "#leemos el fichero IMDB\n",
        "df=pd.read_csv(\"/content/drive/MyDrive/EIU Statistical Analysis For Data Science/datasets/matches_cleaned.csv\", sep=\",\")"
      ]
    },
    {
      "cell_type": "code",
      "source": [
        "import scipy.stats as stats"
      ],
      "metadata": {
        "id": "Q7j0Gpt_VkVj"
      },
      "execution_count": 2,
      "outputs": []
    },
    {
      "cell_type": "markdown",
      "source": [
        "# 1. Paired t-test: Difference in average goals between home and away teams\n",
        "\n",
        "Hypothesis:\n",
        "\n",
        "* Null Hypothesis (H₀): The average goals scored by home teams and away teams are equal.\n",
        "* Alternative Hypothesis (H₁): The average goals scored by home teams and away teams are different."
      ],
      "metadata": {
        "id": "isiQ1lS3VV3R"
      }
    },
    {
      "cell_type": "code",
      "source": [
        "# Hypothetical columns: 'home_score' and 'away_score'\n",
        "home_goals = df['home_score']\n",
        "away_goals = df['away_score']\n",
        "\n",
        "# Paired t-test (since home and away goals come from the same matches)\n",
        "t_statistic, p_value = stats.ttest_rel(home_goals, away_goals)\n",
        "\n",
        "print(f\"T-Statistic: {t_statistic}, P-Value: {p_value}\")\n",
        "\n",
        "# Interpretation\n",
        "if p_value < 0.05:\n",
        "    print(\"Reject the null hypothesis: There's a significant difference between home and away goals.\")\n",
        "else:\n",
        "    print(\"Fail to reject the null hypothesis: No significant difference between home and away goals.\")"
      ],
      "metadata": {
        "colab": {
          "base_uri": "https://localhost:8080/"
        },
        "id": "sNXn2ZreVSi0",
        "outputId": "291d5bf2-3f9f-4534-8c15-b6f2970579bb"
      },
      "execution_count": null,
      "outputs": [
        {
          "output_type": "stream",
          "name": "stdout",
          "text": [
            "T-Statistic: 4.429642781460412, P-Value: 1.2669413786271843e-05\n",
            "Reject the null hypothesis: There's a significant difference between home and away goals.\n"
          ]
        }
      ]
    },
    {
      "cell_type": "markdown",
      "source": [
        "# 2. Chi-Square Test: Association between yellow and red cards\n",
        "\n",
        "Hypothesis 1:\n",
        "\n",
        "* Null Hypothesis (H₀): The total number of yellow cards and red cards are independent.\n",
        "* Alternative Hypothesis (H₁): There is an association between the total number of yellow and red cards."
      ],
      "metadata": {
        "id": "0lCmzdkNVpdc"
      }
    },
    {
      "cell_type": "code",
      "source": [
        "# Hypothetical columns: 'total_yellow_cards' and 'total_red_cards'\n",
        "# Create a contingency table\n",
        "df['total_yellow_cards'] = df['home_yellow_card_count'] + df['away_yellow_card_count']\n",
        "df['total_red_cards'] = df['home_red_card_count'] + df['away_red_card_count']\n",
        "contingency_table = pd.crosstab(df['total_yellow_cards'], df['total_red_cards'])\n",
        "\n",
        "# Perform chi-square test\n",
        "chi2_statistic, p_value, dof, expected = stats.chi2_contingency(contingency_table)\n",
        "\n",
        "print(f\"Chi2 Statistic: {chi2_statistic}, P-Value: {p_value}\")\n",
        "\n",
        "# Interpretation\n",
        "if p_value < 0.05:\n",
        "    print(\"Reject the null hypothesis: There is an association between yellow and red cards.\")\n",
        "else:\n",
        "    print(\"Fail to reject the null hypothesis: No association between yellow and red cards.\")"
      ],
      "metadata": {
        "colab": {
          "base_uri": "https://localhost:8080/"
        },
        "id": "XwWItuGqV2_Y",
        "outputId": "6497f136-8c55-4c47-91d6-db3122055d4c"
      },
      "execution_count": null,
      "outputs": [
        {
          "output_type": "stream",
          "name": "stdout",
          "text": [
            "Chi2 Statistic: 11.45137300335223, P-Value: 0.12010630909458363\n",
            "Fail to reject the null hypothesis: No association between yellow and red cards.\n"
          ]
        }
      ]
    },
    {
      "cell_type": "markdown",
      "source": [
        "Hypothesis 2:\n",
        "\n",
        "* Null Hypothesis (H₀): The total number of yellow cards and red cards of home team are independent.\n",
        "* Alternative Hypothesis (H₁): There is an association between the total number of yellow and red cards of home team."
      ],
      "metadata": {
        "id": "uSerDrWzWi-W"
      }
    },
    {
      "cell_type": "code",
      "source": [
        "# Hypothetical columns: 'total_yellow_cards' and 'total_red_cards'\n",
        "# Create a contingency table\n",
        "contingency_table = pd.crosstab(df['home_yellow_card_count'], df['away_yellow_card_count'])\n",
        "\n",
        "# Perform chi-square test\n",
        "chi2_statistic, p_value, dof, expected = stats.chi2_contingency(contingency_table)\n",
        "\n",
        "print(f\"Chi2 Statistic: {chi2_statistic}, P-Value: {p_value}\")\n",
        "\n",
        "# Interpretation\n",
        "if p_value < 0.05:\n",
        "    print(\"Reject the null hypothesis: There is an association between yellow and red cards.\")\n",
        "else:\n",
        "    print(\"Fail to reject the null hypothesis: No association between yellow and red cards.\")"
      ],
      "metadata": {
        "colab": {
          "base_uri": "https://localhost:8080/"
        },
        "id": "H627PjIMWrSf",
        "outputId": "f9d5b880-31e1-4d35-d6b5-63e7671f24b6"
      },
      "execution_count": null,
      "outputs": [
        {
          "output_type": "stream",
          "name": "stdout",
          "text": [
            "Chi2 Statistic: 23.794864781650624, P-Value: 0.5312505024423132\n",
            "Fail to reject the null hypothesis: No association between yellow and red cards.\n"
          ]
        }
      ]
    },
    {
      "cell_type": "markdown",
      "source": [
        "# 3. ANOVA: Difference in goals across different tournament rounds\n",
        "\n",
        "Hypothesis:\n",
        "\n",
        "* Null Hypothesis (H₀): The average goals scored are the same across different rounds of the tournament.\n",
        "* Alternative Hypothesis (H₁): The average goals scored differ across at least one round."
      ],
      "metadata": {
        "id": "EDzQf74tXAAW"
      }
    },
    {
      "cell_type": "code",
      "source": [
        "# Grouping by tournament round\n",
        "grouped_data = [df[df['round'] == rnd]['home_score'] + df[df['round'] == rnd]['away_score'] for rnd in df['round'].unique()]\n",
        "\n",
        "# Perform ANOVA\n",
        "f_statistic, p_value = stats.f_oneway(*grouped_data)\n",
        "\n",
        "print(f\"F-Statistic: {f_statistic}, P-Value: {p_value}\")\n",
        "\n",
        "# Interpretation\n",
        "if p_value < 0.05:\n",
        "    print(\"Reject the null hypothesis: There is a significant difference in goals across rounds.\")\n",
        "else:\n",
        "    print(\"Fail to reject the null hypothesis: No significant difference in goals across rounds.\")"
      ],
      "metadata": {
        "colab": {
          "base_uri": "https://localhost:8080/"
        },
        "id": "dptAbokJXE1s",
        "outputId": "ea8a7e08-6a5a-4649-cac1-f84a31626de7"
      },
      "execution_count": null,
      "outputs": [
        {
          "output_type": "stream",
          "name": "stdout",
          "text": [
            "F-Statistic: 0.8629056429560712, P-Value: 0.5062110735703593\n",
            "Fail to reject the null hypothesis: No significant difference in goals across rounds.\n"
          ]
        }
      ]
    },
    {
      "cell_type": "markdown",
      "source": [
        "# 4. Correlation Test: Attendance vs. Total Goals\n",
        "Hypothesis:\n",
        "\n",
        "* Null Hypothesis (H₀): There is no correlation between match attendance and total goals scored.\n",
        "* Alternative Hypothesis (H₁): There is a significant correlation between match attendance and total goals scored."
      ],
      "metadata": {
        "id": "URld4lu9XM9U"
      }
    },
    {
      "cell_type": "code",
      "source": [
        "# Total goals scored in a match\n",
        "df['total_goals'] = df['home_score'] + df['away_score']\n",
        "\n",
        "# Perform Pearson correlation test\n",
        "correlation, p_value = stats.pearsonr(df['attendance'], df['total_goals'])\n",
        "\n",
        "print(f\"Correlation Coefficient: {correlation}, P-Value: {p_value}\")\n",
        "\n",
        "# Interpretation\n",
        "if p_value < 0.05:\n",
        "    print(f\"Reject the null hypothesis: There is a significant correlation between attendance and goals (correlation = {correlation}).\")\n",
        "else:\n",
        "    print(\"Fail to reject the null hypothesis: No significant correlation between attendance and goals.\")"
      ],
      "metadata": {
        "colab": {
          "base_uri": "https://localhost:8080/"
        },
        "id": "YIzR4WzOXQOL",
        "outputId": "a5463092-48b6-47d7-a04d-2299c9aef820"
      },
      "execution_count": null,
      "outputs": [
        {
          "output_type": "stream",
          "name": "stdout",
          "text": [
            "Correlation Coefficient: -0.053411765715956634, P-Value: 0.3204624489498549\n",
            "Fail to reject the null hypothesis: No significant correlation between attendance and goals.\n"
          ]
        }
      ]
    },
    {
      "cell_type": "markdown",
      "source": [
        "# 5. One-Sample t-test: Difference between actual goals and expected goals (xG)\n",
        "Hypothesis:\n",
        "\n",
        "* Null Hypothesis (H₀): The average difference between actual goals and expected goals (xG) is less than 1.\n",
        "* Alternative Hypothesis (H₁): The average difference between actual goals and expected goals is greater than 1."
      ],
      "metadata": {
        "id": "CkM-3U7JXVct"
      }
    },
    {
      "cell_type": "code",
      "source": [
        "# Calculate the difference between actual goals and expected goals (xG)\n",
        "df['goal_difference_home'] = df['home_score'] - df['home_xg']\n",
        "df['goal_difference_away'] = df['away_score'] - df['away_xg']\n",
        "\n",
        "# Combine both home and away goal differences into one sample\n",
        "goal_difference = pd.concat([df['goal_difference_home'], df['goal_difference_away']], axis=0)\n",
        "\n",
        "# Perform one-sample t-test against a mean value of 1\n",
        "t_statistic, p_value = stats.ttest_1samp(goal_difference, 1)\n",
        "\n",
        "print(f\"T-Statistic: {t_statistic}, P-Value: {p_value}\")\n",
        "\n",
        "# Interpretation\n",
        "if p_value < 0.05:\n",
        "    print(\"Reject the null hypothesis: The average difference between actual goals and xG is significantly greater than 1.\")\n",
        "else:\n",
        "    print(\"Fail to reject the null hypothesis: No significant evidence that the average difference is greater than 1.\")"
      ],
      "metadata": {
        "colab": {
          "base_uri": "https://localhost:8080/"
        },
        "id": "CP7J4mz6XbiW",
        "outputId": "2811cd00-e10d-4344-f8c6-d4ca94f5dfb4"
      },
      "execution_count": 10,
      "outputs": [
        {
          "output_type": "stream",
          "name": "stdout",
          "text": [
            "T-Statistic: -18.72947393629033, P-Value: 1.1196006552785695e-63\n",
            "Reject the null hypothesis: The average difference between actual goals and xG is significantly greater than 1.\n"
          ]
        }
      ]
    }
  ]
}